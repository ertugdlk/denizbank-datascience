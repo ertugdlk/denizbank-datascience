{
 "cells": [
  {
   "cell_type": "code",
   "execution_count": 4,
   "metadata": {},
   "outputs": [
    {
     "data": {
      "text/html": [
       "<div>\n",
       "<style scoped>\n",
       "    .dataframe tbody tr th:only-of-type {\n",
       "        vertical-align: middle;\n",
       "    }\n",
       "\n",
       "    .dataframe tbody tr th {\n",
       "        vertical-align: top;\n",
       "    }\n",
       "\n",
       "    .dataframe thead th {\n",
       "        text-align: right;\n",
       "    }\n",
       "</style>\n",
       "<table border=\"1\" class=\"dataframe\">\n",
       "  <thead>\n",
       "    <tr style=\"text-align: right;\">\n",
       "      <th></th>\n",
       "      <th>PeriodOrder</th>\n",
       "      <th>CustomerId</th>\n",
       "      <th>ValueBasedSegment</th>\n",
       "      <th>ProfitSegment</th>\n",
       "      <th>YearlyIncome</th>\n",
       "      <th>AvgUsdAumL3M</th>\n",
       "      <th>AvgUsdAumL6M</th>\n",
       "      <th>SumUsdAum</th>\n",
       "      <th>MaxUsdAumL24M</th>\n",
       "      <th>AvgDemandDepositTrxUsdAmountL6M</th>\n",
       "      <th>...</th>\n",
       "      <th>AvgBranchTrxNumL6M</th>\n",
       "      <th>SumBranchTrxNumLM</th>\n",
       "      <th>SumCcIvrTrxNumL3M</th>\n",
       "      <th>SumCcIvrTrxNumL6M</th>\n",
       "      <th>SumDemandDepositTrxNumL3M</th>\n",
       "      <th>SumDemandDepositTrxNumL6M</th>\n",
       "      <th>BonusCampaignPromiseFlag</th>\n",
       "      <th>ClosedCreditCardFlag</th>\n",
       "      <th>ValidationFlag</th>\n",
       "      <th>ChurnFlag</th>\n",
       "    </tr>\n",
       "  </thead>\n",
       "  <tbody>\n",
       "    <tr>\n",
       "      <th>0</th>\n",
       "      <td>12</td>\n",
       "      <td>6B93AE32-CC94-4225-93A6-4B4E4FE3ED38</td>\n",
       "      <td>X</td>\n",
       "      <td>D</td>\n",
       "      <td>0.0</td>\n",
       "      <td>0</td>\n",
       "      <td>0</td>\n",
       "      <td>0.0</td>\n",
       "      <td>50.0</td>\n",
       "      <td>0</td>\n",
       "      <td>...</td>\n",
       "      <td>0.28</td>\n",
       "      <td>NaN</td>\n",
       "      <td>0</td>\n",
       "      <td>0</td>\n",
       "      <td>0.0</td>\n",
       "      <td>0.0</td>\n",
       "      <td>0</td>\n",
       "      <td>0</td>\n",
       "      <td>0</td>\n",
       "      <td>0.0</td>\n",
       "    </tr>\n",
       "    <tr>\n",
       "      <th>1</th>\n",
       "      <td>12</td>\n",
       "      <td>23F308B0-0A29-4FC7-A4BB-FFAB461643EC</td>\n",
       "      <td>X</td>\n",
       "      <td>D</td>\n",
       "      <td>150.0</td>\n",
       "      <td>340</td>\n",
       "      <td>310</td>\n",
       "      <td>400.0</td>\n",
       "      <td>750.0</td>\n",
       "      <td>1370</td>\n",
       "      <td>...</td>\n",
       "      <td>0</td>\n",
       "      <td>NaN</td>\n",
       "      <td>0</td>\n",
       "      <td>0</td>\n",
       "      <td>2.0</td>\n",
       "      <td>2.0</td>\n",
       "      <td>0</td>\n",
       "      <td>0</td>\n",
       "      <td>0</td>\n",
       "      <td>0.0</td>\n",
       "    </tr>\n",
       "    <tr>\n",
       "      <th>2</th>\n",
       "      <td>12</td>\n",
       "      <td>14C523CD-12D8-435B-8BB3-10DB40C3EAA1</td>\n",
       "      <td>X</td>\n",
       "      <td>D</td>\n",
       "      <td>10.0</td>\n",
       "      <td>10</td>\n",
       "      <td>10</td>\n",
       "      <td>0.0</td>\n",
       "      <td>140.0</td>\n",
       "      <td>1040</td>\n",
       "      <td>...</td>\n",
       "      <td>0.55</td>\n",
       "      <td>NaN</td>\n",
       "      <td>0</td>\n",
       "      <td>0</td>\n",
       "      <td>4.0</td>\n",
       "      <td>8.0</td>\n",
       "      <td>0</td>\n",
       "      <td>0</td>\n",
       "      <td>0</td>\n",
       "      <td>0.0</td>\n",
       "    </tr>\n",
       "    <tr>\n",
       "      <th>3</th>\n",
       "      <td>12</td>\n",
       "      <td>35B56EC7-903C-473A-883A-75CDD5F3F0B0</td>\n",
       "      <td>X</td>\n",
       "      <td>C</td>\n",
       "      <td>770.0</td>\n",
       "      <td>0</td>\n",
       "      <td>0</td>\n",
       "      <td>0.0</td>\n",
       "      <td>790.0</td>\n",
       "      <td>340</td>\n",
       "      <td>...</td>\n",
       "      <td>0</td>\n",
       "      <td>NaN</td>\n",
       "      <td>0</td>\n",
       "      <td>0</td>\n",
       "      <td>6.0</td>\n",
       "      <td>6.0</td>\n",
       "      <td>0</td>\n",
       "      <td>0</td>\n",
       "      <td>0</td>\n",
       "      <td>0.0</td>\n",
       "    </tr>\n",
       "    <tr>\n",
       "      <th>4</th>\n",
       "      <td>12</td>\n",
       "      <td>3A7D8BB6-5D84-4401-AF57-5BD58DFC1868</td>\n",
       "      <td>X</td>\n",
       "      <td>B</td>\n",
       "      <td>850.0</td>\n",
       "      <td>0</td>\n",
       "      <td>0</td>\n",
       "      <td>0.0</td>\n",
       "      <td>0.0</td>\n",
       "      <td>150</td>\n",
       "      <td>...</td>\n",
       "      <td>0</td>\n",
       "      <td>NaN</td>\n",
       "      <td>0</td>\n",
       "      <td>0</td>\n",
       "      <td>6.0</td>\n",
       "      <td>6.0</td>\n",
       "      <td>0</td>\n",
       "      <td>0</td>\n",
       "      <td>0</td>\n",
       "      <td>0.0</td>\n",
       "    </tr>\n",
       "  </tbody>\n",
       "</table>\n",
       "<p>5 rows × 84 columns</p>\n",
       "</div>"
      ],
      "text/plain": [
       "   PeriodOrder                            CustomerId ValueBasedSegment  \\\n",
       "0           12  6B93AE32-CC94-4225-93A6-4B4E4FE3ED38                 X   \n",
       "1           12  23F308B0-0A29-4FC7-A4BB-FFAB461643EC                 X   \n",
       "2           12  14C523CD-12D8-435B-8BB3-10DB40C3EAA1                 X   \n",
       "3           12  35B56EC7-903C-473A-883A-75CDD5F3F0B0                 X   \n",
       "4           12  3A7D8BB6-5D84-4401-AF57-5BD58DFC1868                 X   \n",
       "\n",
       "  ProfitSegment  YearlyIncome  AvgUsdAumL3M  AvgUsdAumL6M  SumUsdAum  \\\n",
       "0             D           0.0             0             0        0.0   \n",
       "1             D         150.0           340           310      400.0   \n",
       "2             D          10.0            10            10        0.0   \n",
       "3             C         770.0             0             0        0.0   \n",
       "4             B         850.0             0             0        0.0   \n",
       "\n",
       "   MaxUsdAumL24M  AvgDemandDepositTrxUsdAmountL6M  ...  AvgBranchTrxNumL6M  \\\n",
       "0           50.0                                0  ...                0.28   \n",
       "1          750.0                             1370  ...                   0   \n",
       "2          140.0                             1040  ...                0.55   \n",
       "3          790.0                              340  ...                   0   \n",
       "4            0.0                              150  ...                   0   \n",
       "\n",
       "   SumBranchTrxNumLM  SumCcIvrTrxNumL3M  SumCcIvrTrxNumL6M  \\\n",
       "0                NaN                  0                  0   \n",
       "1                NaN                  0                  0   \n",
       "2                NaN                  0                  0   \n",
       "3                NaN                  0                  0   \n",
       "4                NaN                  0                  0   \n",
       "\n",
       "   SumDemandDepositTrxNumL3M  SumDemandDepositTrxNumL6M  \\\n",
       "0                        0.0                        0.0   \n",
       "1                        2.0                        2.0   \n",
       "2                        4.0                        8.0   \n",
       "3                        6.0                        6.0   \n",
       "4                        6.0                        6.0   \n",
       "\n",
       "   BonusCampaignPromiseFlag  ClosedCreditCardFlag  ValidationFlag  ChurnFlag  \n",
       "0                         0                     0               0        0.0  \n",
       "1                         0                     0               0        0.0  \n",
       "2                         0                     0               0        0.0  \n",
       "3                         0                     0               0        0.0  \n",
       "4                         0                     0               0        0.0  \n",
       "\n",
       "[5 rows x 84 columns]"
      ]
     },
     "execution_count": 4,
     "metadata": {},
     "output_type": "execute_result"
    }
   ],
   "source": [
    "import pandas as pd\n",
    "\n",
    "#Read Excel file and get insight\n",
    "df12 = pd.read_excel('COOP4230_DS_PROJECT_DATA_12.xlsx', engine='openpyxl')\n",
    "df12.head(5)"
   ]
  },
  {
   "cell_type": "code",
   "execution_count": 5,
   "metadata": {},
   "outputs": [
    {
     "name": "stdout",
     "output_type": "stream",
     "text": [
      "ChurnFlag                           1.000000\n",
      "ClosedCreditCardFlag                0.044777\n",
      "ClosedPayrollDurationMonthL12M      0.033267\n",
      "SumCreditCardRevolveUsdAmountLM     0.006337\n",
      "SumTrDemandDepositTrxUsdAmountLM   -0.001559\n",
      "                                      ...   \n",
      "SumDemandDepositTrxTypeNumLM       -0.165948\n",
      "Channel2OwnershipFlag              -0.177788\n",
      "ActiveProductAndChannelGroupNum    -0.228249\n",
      "PeriodOrder                              NaN\n",
      "ValidationFlag                           NaN\n",
      "Name: ChurnFlag, Length: 64, dtype: float64\n"
     ]
    },
    {
     "data": {
      "text/plain": [
       "SumClosedAutoBillPaymentOrderNumLM    65999\n",
       "SumNewAutoBillPaymentOrderNumLM       65536\n",
       "SumInboundTrxNumLM                    65278\n",
       "SumFxDemandDepositTrxUsdAmountLM      64210\n",
       "SumInboundNumLM                       62269\n",
       "                                      ...  \n",
       "Product6OwnershipFlag                     0\n",
       "Product7OwnershipFlag                     0\n",
       "Product8OwnershipFlag                     0\n",
       "Product9OwnershipFlag                     0\n",
       "PeriodOrder                               0\n",
       "Length: 84, dtype: int64"
      ]
     },
     "execution_count": 5,
     "metadata": {},
     "output_type": "execute_result"
    }
   ],
   "source": [
    "#Check corralation\n",
    "corr = df12.corr()\n",
    "print(corr[\"ChurnFlag\"].sort_values(ascending=False))\n",
    "\n",
    "#Check NaN values from dataset\n",
    "df12.isna().sum().sort_values(ascending=False)"
   ]
  },
  {
   "cell_type": "code",
   "execution_count": 6,
   "metadata": {},
   "outputs": [
    {
     "data": {
      "text/plain": [
       "SumClosedAutoBillPaymentOrderNumLM    54999\n",
       "SumNewAutoBillPaymentOrderNumLM       54608\n",
       "SumInboundTrxNumLM                    54388\n",
       "SumFxDemandDepositTrxUsdAmountLM      53496\n",
       "SumInboundNumLM                       51881\n",
       "                                      ...  \n",
       "Product6OwnershipFlag                     0\n",
       "Product7OwnershipFlag                     0\n",
       "Product8OwnershipFlag                     0\n",
       "Product9OwnershipFlag                     0\n",
       "PeriodOrder                               0\n",
       "Length: 84, dtype: int64"
      ]
     },
     "execution_count": 6,
     "metadata": {},
     "output_type": "execute_result"
    }
   ],
   "source": [
    "#Select rows where ValidationFlag=0\n",
    "dfmodel = df12.loc[df12['ValidationFlag'] == 0]\n",
    "\n",
    "#Null values for ValidationFlag=0 rows\n",
    "dfmodel.isna().sum().sort_values(ascending=False)"
   ]
  },
  {
   "cell_type": "code",
   "execution_count": 7,
   "metadata": {},
   "outputs": [
    {
     "data": {
      "text/plain": [
       "SumClosedAutoBillPaymentOrderNumLM    54970\n",
       "SumNewAutoBillPaymentOrderNumLM       54579\n",
       "SumInboundTrxNumLM                    54359\n",
       "SumFxDemandDepositTrxUsdAmountLM      53467\n",
       "SumInboundNumLM                       51852\n",
       "                                      ...  \n",
       "Product6OwnershipFlag                     0\n",
       "Product7OwnershipFlag                     0\n",
       "Product8OwnershipFlag                     0\n",
       "Product9OwnershipFlag                     0\n",
       "PeriodOrder                               0\n",
       "Length: 84, dtype: int64"
      ]
     },
     "execution_count": 7,
     "metadata": {},
     "output_type": "execute_result"
    }
   ],
   "source": [
    "nullIncomes = dfmodel.loc[dfmodel['YearlyIncome'].isna()]\n",
    "nullIncomes\n",
    "\n",
    "dfmodel = dfmodel[dfmodel['YearlyIncome'].notna()]\n",
    "dfmodel.isna().sum().sort_values(ascending=False)"
   ]
  },
  {
   "cell_type": "markdown",
   "metadata": {},
   "source": [
    "## Dfmodel Refactored \n",
    "\n",
    "Unnecessary columns with a high number of null values were dropped."
   ]
  },
  {
   "cell_type": "code",
   "execution_count": 8,
   "metadata": {},
   "outputs": [],
   "source": [
    "dfmodel = dfmodel.drop([\"SumClosedAutoBillPaymentOrderNumLM\",\n",
    "\"SumNewAutoBillPaymentOrderNumLM\",\n",
    "\"SumInboundTrxNumLM\",               \n",
    "\"SumFxDemandDepositTrxUsdAmountLM\",              \n",
    "\"SumInboundNumLM\",             \n",
    "\"SumAutoBillPaymentNumLM\",\n",
    "\"SumBranchTrxUsdAmountLM\",                       \n",
    "\"SumBranchTrxNumLM\",                      \n",
    "\"SumIncomingEftNumLM\",                     \n",
    "\"SumEftNumLM\",                    \n",
    "\"SumInstallmentLoanInstallmentBalanceLM\",\n",
    "\"SumInstallmentLoanOpeningBalanceUsdLM\",\n",
    "\"SumInstallmentLoanCurrentBalanceUsdLM\",\n",
    "\"MaxOverdraftBalanceUsdLM\",         \n",
    "\"AvgEftNumL3M\",        \n",
    "\"AvgCreditCardEftUsdAmountL3M\",       \n",
    "\"AvgEftNumL6M\",      \n",
    "\"AvgCreditCardEftUsdAmountL6M\",     \n",
    "\"CreditCardUsdLimitLM\",    \n",
    "\"SumCreditCardRevolveUsdAmountLM\",   \n",
    "\"SumCreditCardTrxNumLM\",  \n",
    "\"SumCreditCardTrxUsdAmountLM\", \n",
    "\"SumAtmTrxUsdAmountLM\",\n",
    "\"SumTrDemandDepositTrxUsdAmountLM\"], axis=1)\n"
   ]
  },
  {
   "cell_type": "markdown",
   "metadata": {},
   "source": [
    "### Null Values after unnecessary columns dropped"
   ]
  },
  {
   "cell_type": "code",
   "execution_count": 9,
   "metadata": {},
   "outputs": [
    {
     "data": {
      "text/plain": [
       "SumDemandDepositTrxNumL6M    3479\n",
       "SumDemandDepositTrxNumL3M    2935\n",
       "SumUsdAum                      27\n",
       "SumLoanBalanceUsdLM            27\n",
       "MaxLoanBalanceL24M             18\n",
       "dtype: int64"
      ]
     },
     "execution_count": 9,
     "metadata": {},
     "output_type": "execute_result"
    }
   ],
   "source": [
    "dfmodel.isna().sum().sort_values(ascending=False).head(5)"
   ]
  },
  {
   "cell_type": "markdown",
   "metadata": {},
   "source": [
    "### Correlation Values for ChurnFlag after unnecessary columns dropped "
   ]
  },
  {
   "cell_type": "code",
   "execution_count": 10,
   "metadata": {},
   "outputs": [
    {
     "data": {
      "text/plain": [
       "ChurnFlag                          1.000000\n",
       "ClosedCreditCardFlag               0.044587\n",
       "ClosedPayrollDurationMonthL12M     0.033348\n",
       "AvgDemandDepositTrxUsdAmountL6M   -0.001728\n",
       "MaxUsdAumL24M                     -0.007035\n",
       "Name: ChurnFlag, dtype: float64"
      ]
     },
     "execution_count": 10,
     "metadata": {},
     "output_type": "execute_result"
    }
   ],
   "source": [
    "corr = dfmodel.corr()\n",
    "corr\n",
    "corr[\"ChurnFlag\"].sort_values(ascending=False).head(5)"
   ]
  },
  {
   "cell_type": "markdown",
   "metadata": {},
   "source": [
    "\n",
    "## NaN counts \n",
    "27\n",
    "SumUsdAum                                        \n",
    "27\n",
    "SumLoanBalanceUsdLM                              \n",
    "18\n",
    "MaxLoanBalanceL24M                               \n",
    "18\n",
    "MaxUsdAumL24M                                    \n",
    "\n",
    "\n",
    "These rows dropped"
   ]
  },
  {
   "cell_type": "code",
   "execution_count": 11,
   "metadata": {},
   "outputs": [
    {
     "name": "stdout",
     "output_type": "stream",
     "text": [
      "Current shape of dataframe (54971, 60)\n",
      "Shape of dataframe after drop operation (54944, 60)\n"
     ]
    }
   ],
   "source": [
    "nullIncomes = dfmodel.loc[dfmodel['SumUsdAum'].isna()] #Son 24 aydaki tüm varlıkların usd toplamı vadeli vadesiz\n",
    "nullIncomes\n",
    "\n",
    "#Current shape of dataframe\n",
    "print('Current shape of dataframe' , dfmodel.shape)\n",
    "\n",
    "#Shape of dataframe after drop operation\n",
    "dfmodel = dfmodel.drop(index= nullIncomes.index, axis= 0)\n",
    "print('Shape of dataframe after drop operation' , dfmodel.shape)"
   ]
  },
  {
   "cell_type": "markdown",
   "metadata": {},
   "source": [
    "### Null Values after unnecessary rows dropped"
   ]
  },
  {
   "cell_type": "code",
   "execution_count": 12,
   "metadata": {},
   "outputs": [
    {
     "data": {
      "text/plain": [
       "SumDemandDepositTrxNumL6M    3479\n",
       "SumDemandDepositTrxNumL3M    2935\n",
       "ChurnFlag                       0\n",
       "AvgInternetLoginNumL3M          0\n",
       "ClosedProductNumL3M             0\n",
       "dtype: int64"
      ]
     },
     "execution_count": 12,
     "metadata": {},
     "output_type": "execute_result"
    }
   ],
   "source": [
    "dfmodel.isna().sum().sort_values(ascending=False).head(5)"
   ]
  },
  {
   "cell_type": "code",
   "execution_count": 13,
   "metadata": {},
   "outputs": [
    {
     "data": {
      "text/plain": [
       "SumDemandDepositTrxNumL3M          1.000000\n",
       "SumDemandDepositTrxNumL6M          0.929089\n",
       "SumDemandDepositTrxTypeNumLM       0.856933\n",
       "ActiveProductAndChannelGroupNum    0.630240\n",
       "Product13OwnershipFlag             0.564592\n",
       "Name: SumDemandDepositTrxNumL3M, dtype: float64"
      ]
     },
     "execution_count": 13,
     "metadata": {},
     "output_type": "execute_result"
    }
   ],
   "source": [
    "corr[\"SumDemandDepositTrxNumL3M\"].sort_values(ascending=False).head(5)"
   ]
  },
  {
   "cell_type": "markdown",
   "metadata": {},
   "source": [
    "SumDemandDepositTrxNumL3M - 2935 and SumDemandDepositTrxNumL6M - 3479 have null values\n",
    "We created new dataset with dropping nulls for linear regression model"
   ]
  },
  {
   "cell_type": "code",
   "execution_count": 14,
   "metadata": {},
   "outputs": [],
   "source": [
    "dfSumDemandDepositTrxNumL3M = dfmodel.loc[dfmodel['SumDemandDepositTrxNumL3M'] == 0]\n",
    "nullIncomes = dfmodel.loc[dfmodel['SumDemandDepositTrxNumL3M'].isna()]"
   ]
  },
  {
   "cell_type": "code",
   "execution_count": 15,
   "metadata": {},
   "outputs": [
    {
     "name": "stdout",
     "output_type": "stream",
     "text": [
      "Shape of current dfmodel (54944, 60)\n",
      "Shape of testdataframe (50872, 60)\n"
     ]
    }
   ],
   "source": [
    "nullIncomes2 = dfmodel.loc[dfmodel['SumDemandDepositTrxNumL6M'].isna()] #validation dataset\n",
    "print('Shape of current dfmodel' , dfmodel.shape)\n",
    "\n",
    "testDataframe = dfmodel.drop(index= nullIncomes2.index, axis= 0)\n",
    "nullIncomes3 = testDataframe.loc[dfmodel['SumDemandDepositTrxNumL3M'].isna()]\n",
    "testDataframe = testDataframe.drop(index= nullIncomes3.index, axis= 0)\n",
    "print('Shape of testdataframe' , testDataframe.shape)"
   ]
  },
  {
   "cell_type": "code",
   "execution_count": 16,
   "metadata": {},
   "outputs": [
    {
     "data": {
      "text/plain": [
       "ChurnFlag                        0\n",
       "ValidationFlag                   0\n",
       "Product1OwnershipFlag            0\n",
       "ClosedProductNumL3M              0\n",
       "NewOpenProductAndChannelNumLM    0\n",
       "dtype: int64"
      ]
     },
     "execution_count": 16,
     "metadata": {},
     "output_type": "execute_result"
    }
   ],
   "source": [
    "testDataframe.isna().sum().sort_values(ascending=False).head(5)"
   ]
  },
  {
   "cell_type": "markdown",
   "metadata": {},
   "source": [
    "## Regression for imputation SumDemandDepositTrxNumL6M'"
   ]
  },
  {
   "cell_type": "code",
   "execution_count": 17,
   "metadata": {
    "scrolled": true
   },
   "outputs": [
    {
     "name": "stdout",
     "output_type": "stream",
     "text": [
      "real target\n",
      "[[0.]\n",
      " [2.]\n",
      " [8.]\n",
      " ...\n",
      " [4.]\n",
      " [4.]\n",
      " [2.]]\n",
      "              0\n",
      "0      0.000000\n",
      "1      0.052632\n",
      "2      0.210526\n",
      "3      0.157895\n",
      "4      0.157895\n",
      "...         ...\n",
      "50867  0.210526\n",
      "50868  0.000000\n",
      "50869  0.105263\n",
      "50870  0.105263\n",
      "50871  0.052632\n",
      "\n",
      "[50872 rows x 1 columns]\n",
      "Mean Absolute Error: 0.03654931137324324\n",
      "Mean Squared Error: 0.0022705003937485576\n",
      "Root Mean Squared Error: 0.047649768034572396\n",
      "[[10.]\n",
      " [20.]\n",
      " [ 4.]\n",
      " ...\n",
      " [ 4.]\n",
      " [ 4.]\n",
      " [12.]]\n",
      "[[ 9.26705557]\n",
      " [20.00865201]\n",
      " [ 5.09808145]\n",
      " ...\n",
      " [ 5.15611075]\n",
      " [ 5.15611075]\n",
      " [ 9.32508487]]\n",
      "Mean Absolute Error: 1.3888738321832432\n",
      "Mean Squared Error: 3.2786025685729183\n",
      "Root Mean Squared Error: 1.8106911853137515\n"
     ]
    }
   ],
   "source": [
    "from sklearn.linear_model import LinearRegression\n",
    "from sklearn.preprocessing import MinMaxScaler, StandardScaler\n",
    "from sklearn.model_selection import train_test_split\n",
    "from sklearn import metrics\n",
    "import numpy as np\n",
    "\n",
    "values = testDataframe[['SumDemandDepositTrxNumL3M','SumDemandDepositTrxTypeNumLM' ]]\n",
    "scaler = StandardScaler()\n",
    "scaled = scaler.fit_transform(values)\n",
    "inputs = pd.DataFrame(scaled)\n",
    "\n",
    "target = testDataframe['SumDemandDepositTrxNumL6M']\n",
    "target = target.to_numpy()\n",
    "target = target.reshape(-1, 1)\n",
    "print('real target')\n",
    "print(target)\n",
    "minxmaxScaler = MinMaxScaler()\n",
    "newtarget = minxmaxScaler.fit_transform(target)\n",
    "target = pd.DataFrame(newtarget)\n",
    "print(target)\n",
    "\n",
    "\n",
    "X_train, X_test, y_train, y_test = train_test_split( inputs, target, test_size=0.2, random_state=42)\n",
    "\n",
    "regressor = LinearRegression()\n",
    "regressor.fit(X_train, y_train)\n",
    "\n",
    "#Test set\n",
    "y_pred = regressor.predict(X_test)\n",
    "print('Mean Absolute Error:', metrics.mean_absolute_error(y_test, y_pred))\n",
    "print('Mean Squared Error:', metrics.mean_squared_error(y_test, y_pred))\n",
    "print('Root Mean Squared Error:', np.sqrt(metrics.mean_squared_error(y_test, y_pred)))\n",
    "\n",
    "#Real test\n",
    "reversed_target2 = minxmaxScaler.inverse_transform(y_test)\n",
    "print(reversed_target2)\n",
    "reversed_target = minxmaxScaler.inverse_transform(y_pred)\n",
    "print(reversed_target)\n",
    "\n",
    "print('Mean Absolute Error:', metrics.mean_absolute_error(reversed_target2, reversed_target))\n",
    "print('Mean Squared Error:', metrics.mean_squared_error(reversed_target2, reversed_target))\n",
    "print('Root Mean Squared Error:', np.sqrt(metrics.mean_squared_error(reversed_target2, reversed_target)))"
   ]
  },
  {
   "cell_type": "code",
   "execution_count": 18,
   "metadata": {},
   "outputs": [
    {
     "data": {
      "text/plain": [
       "ChurnFlag                            1.000000\n",
       "ClosedCreditCardFlag                 0.040596\n",
       "ClosedPayrollDurationMonthL12M       0.036551\n",
       "AvgDemandDepositTrxUsdAmountL6M     -0.001801\n",
       "ClosedOverdraftDurationMonthL12M    -0.005343\n",
       "SumUsdAum                           -0.007413\n",
       "MaxUsdAumL24M                       -0.007453\n",
       "AvgFxDemandDepositTrxUsdAmountL6M   -0.007456\n",
       "AvgFxDemandDepositTrxUsdAmountL3M   -0.007468\n",
       "AvgUsdAumL3M                        -0.008408\n",
       "Name: ChurnFlag, dtype: float64"
      ]
     },
     "execution_count": 18,
     "metadata": {},
     "output_type": "execute_result"
    }
   ],
   "source": [
    "corr = testDataframe.corr()\n",
    "corr[\"ChurnFlag\"].sort_values(ascending=False).head(10)"
   ]
  },
  {
   "cell_type": "code",
   "execution_count": 19,
   "metadata": {},
   "outputs": [
    {
     "name": "stdout",
     "output_type": "stream",
     "text": [
      "<class 'pandas.core.frame.DataFrame'>\n",
      "Int64Index: 50872 entries, 0 to 65998\n",
      "Data columns (total 60 columns):\n",
      " #   Column                                       Non-Null Count  Dtype  \n",
      "---  ------                                       --------------  -----  \n",
      " 0   ActiveProductAndChannelGroupNum              50872 non-null  int64  \n",
      " 1   AvgAtmTrxNumL6M                              50872 non-null  object \n",
      " 2   AvgAutoBillPaymentNumLM6                     50872 non-null  object \n",
      " 3   AvgBranchTrxNumL6M                           50872 non-null  object \n",
      " 4   AvgDemandDepositTrxNumL6M                    50872 non-null  object \n",
      " 5   AvgDemandDepositTrxUsdAmountL6M              50872 non-null  int64  \n",
      " 6   AvgFxDemandDepositTrxNumL3M                  50872 non-null  object \n",
      " 7   AvgFxDemandDepositTrxNumL6M                  50872 non-null  object \n",
      " 8   AvgFxDemandDepositTrxUsdAmountL3M            50872 non-null  int64  \n",
      " 9   AvgFxDemandDepositTrxUsdAmountL6M            50872 non-null  int64  \n",
      " 10  AvgInternetLoginNumL3M                       50872 non-null  object \n",
      " 11  AvgInternetTrxNumL3M                         50872 non-null  object \n",
      " 12  AvgInternetTrxNumL6M                         50872 non-null  object \n",
      " 13  AvgUsdAumL3M                                 50872 non-null  int64  \n",
      " 14  AvgUsdAumL6M                                 50872 non-null  int64  \n",
      " 15  BonusCampaignPromiseFlag                     50872 non-null  int64  \n",
      " 16  Channel1OwnershipFlag                        50872 non-null  int64  \n",
      " 17  Channel2OwnershipFlag                        50872 non-null  int64  \n",
      " 18  Channel3OwnershipFlag                        50872 non-null  int64  \n",
      " 19  ChurnFlag                                    50872 non-null  float64\n",
      " 20  ClosedAutoBillPaymentOrderDurationMonthL12M  50872 non-null  int64  \n",
      " 21  ClosedCreditCardDurationMonthL12M            50872 non-null  int64  \n",
      " 22  ClosedCreditCardFlag                         50872 non-null  int64  \n",
      " 23  ClosedOverdraftDurationMonthL12M             50872 non-null  int64  \n",
      " 24  ClosedPayrollDurationMonthL12M               50872 non-null  int64  \n",
      " 25  ClosedProductNumL3M                          50872 non-null  object \n",
      " 26  CustomerId                                   50872 non-null  object \n",
      " 27  DemandDepositBalanceDebtRatioLM6             50872 non-null  object \n",
      " 28  DifDayLast2FinancialTrxL12M                  50872 non-null  object \n",
      " 29  MaxLoanBalanceL24M                           50872 non-null  float64\n",
      " 30  MaxLoanRemainingMaturity                     50872 non-null  int64  \n",
      " 31  MaxUsdAumL24M                                50872 non-null  float64\n",
      " 32  NewOpenProductAndChannelNumLM                50872 non-null  int64  \n",
      " 33  PeriodOrder                                  50872 non-null  int64  \n",
      " 34  Product10OwnershipFlag                       50872 non-null  int64  \n",
      " 35  Product11OwnershipFlag                       50872 non-null  int64  \n",
      " 36  Product12OwnershipFlag                       50872 non-null  int64  \n",
      " 37  Product13OwnershipFlag                       50872 non-null  int64  \n",
      " 38  Product14OwnershipFlag                       50872 non-null  int64  \n",
      " 39  Product15OwnershipFlag                       50872 non-null  int64  \n",
      " 40  Product1OwnershipFlag                        50872 non-null  int64  \n",
      " 41  Product2OwnershipFlag                        50872 non-null  int64  \n",
      " 42  Product3OwnershipFlag                        50872 non-null  int64  \n",
      " 43  Product4OwnershipFlag                        50872 non-null  int64  \n",
      " 44  Product5OwnershipFlag                        50872 non-null  int64  \n",
      " 45  Product6OwnershipFlag                        50872 non-null  int64  \n",
      " 46  Product7OwnershipFlag                        50872 non-null  int64  \n",
      " 47  Product8OwnershipFlag                        50872 non-null  int64  \n",
      " 48  Product9OwnershipFlag                        50872 non-null  int64  \n",
      " 49  ProfitSegment                                50872 non-null  object \n",
      " 50  SumCcIvrTrxNumL3M                            50872 non-null  int64  \n",
      " 51  SumCcIvrTrxNumL6M                            50872 non-null  int64  \n",
      " 52  SumDemandDepositTrxNumL3M                    50872 non-null  float64\n",
      " 53  SumDemandDepositTrxNumL6M                    50872 non-null  float64\n",
      " 54  SumDemandDepositTrxTypeNumLM                 50872 non-null  int64  \n",
      " 55  SumLoanBalanceUsdLM                          50872 non-null  float64\n",
      " 56  SumUsdAum                                    50872 non-null  float64\n",
      " 57  ValidationFlag                               50872 non-null  int64  \n",
      " 58  ValueBasedSegment                            50872 non-null  object \n",
      " 59  YearlyIncome                                 50872 non-null  float64\n",
      "dtypes: float64(8), int64(37), object(15)\n",
      "memory usage: 23.7+ MB\n"
     ]
    }
   ],
   "source": [
    "sorted_data = testDataframe.reindex(sorted(testDataframe.columns), axis=1)\n",
    "sorted_data.info()"
   ]
  },
  {
   "cell_type": "markdown",
   "metadata": {},
   "source": [
    "### TotalProductOwnership creation Phase"
   ]
  },
  {
   "cell_type": "code",
   "execution_count": 20,
   "metadata": {},
   "outputs": [],
   "source": [
    "##Total product ownership calculation\n",
    "poColumns = sorted_data.iloc[:, 34:49]"
   ]
  },
  {
   "cell_type": "code",
   "execution_count": 21,
   "metadata": {},
   "outputs": [
    {
     "data": {
      "text/html": [
       "<div>\n",
       "<style scoped>\n",
       "    .dataframe tbody tr th:only-of-type {\n",
       "        vertical-align: middle;\n",
       "    }\n",
       "\n",
       "    .dataframe tbody tr th {\n",
       "        vertical-align: top;\n",
       "    }\n",
       "\n",
       "    .dataframe thead th {\n",
       "        text-align: right;\n",
       "    }\n",
       "</style>\n",
       "<table border=\"1\" class=\"dataframe\">\n",
       "  <thead>\n",
       "    <tr style=\"text-align: right;\">\n",
       "      <th></th>\n",
       "      <th>Product10OwnershipFlag</th>\n",
       "      <th>Product11OwnershipFlag</th>\n",
       "      <th>Product12OwnershipFlag</th>\n",
       "      <th>Product13OwnershipFlag</th>\n",
       "      <th>Product14OwnershipFlag</th>\n",
       "      <th>Product15OwnershipFlag</th>\n",
       "      <th>Product1OwnershipFlag</th>\n",
       "      <th>Product2OwnershipFlag</th>\n",
       "      <th>Product3OwnershipFlag</th>\n",
       "      <th>Product4OwnershipFlag</th>\n",
       "      <th>Product5OwnershipFlag</th>\n",
       "      <th>Product6OwnershipFlag</th>\n",
       "      <th>Product7OwnershipFlag</th>\n",
       "      <th>Product8OwnershipFlag</th>\n",
       "      <th>Product9OwnershipFlag</th>\n",
       "    </tr>\n",
       "  </thead>\n",
       "  <tbody>\n",
       "    <tr>\n",
       "      <th>0</th>\n",
       "      <td>0</td>\n",
       "      <td>0</td>\n",
       "      <td>0</td>\n",
       "      <td>0</td>\n",
       "      <td>1</td>\n",
       "      <td>0</td>\n",
       "      <td>0</td>\n",
       "      <td>0</td>\n",
       "      <td>0</td>\n",
       "      <td>0</td>\n",
       "      <td>0</td>\n",
       "      <td>0</td>\n",
       "      <td>1</td>\n",
       "      <td>0</td>\n",
       "      <td>0</td>\n",
       "    </tr>\n",
       "    <tr>\n",
       "      <th>1</th>\n",
       "      <td>0</td>\n",
       "      <td>0</td>\n",
       "      <td>0</td>\n",
       "      <td>1</td>\n",
       "      <td>2</td>\n",
       "      <td>1</td>\n",
       "      <td>0</td>\n",
       "      <td>0</td>\n",
       "      <td>0</td>\n",
       "      <td>0</td>\n",
       "      <td>2</td>\n",
       "      <td>0</td>\n",
       "      <td>2</td>\n",
       "      <td>0</td>\n",
       "      <td>0</td>\n",
       "    </tr>\n",
       "    <tr>\n",
       "      <th>2</th>\n",
       "      <td>0</td>\n",
       "      <td>0</td>\n",
       "      <td>0</td>\n",
       "      <td>1</td>\n",
       "      <td>2</td>\n",
       "      <td>0</td>\n",
       "      <td>0</td>\n",
       "      <td>0</td>\n",
       "      <td>0</td>\n",
       "      <td>0</td>\n",
       "      <td>0</td>\n",
       "      <td>0</td>\n",
       "      <td>1</td>\n",
       "      <td>1</td>\n",
       "      <td>0</td>\n",
       "    </tr>\n",
       "    <tr>\n",
       "      <th>3</th>\n",
       "      <td>0</td>\n",
       "      <td>0</td>\n",
       "      <td>0</td>\n",
       "      <td>2</td>\n",
       "      <td>2</td>\n",
       "      <td>2</td>\n",
       "      <td>2</td>\n",
       "      <td>0</td>\n",
       "      <td>0</td>\n",
       "      <td>2</td>\n",
       "      <td>2</td>\n",
       "      <td>0</td>\n",
       "      <td>1</td>\n",
       "      <td>2</td>\n",
       "      <td>0</td>\n",
       "    </tr>\n",
       "    <tr>\n",
       "      <th>4</th>\n",
       "      <td>0</td>\n",
       "      <td>0</td>\n",
       "      <td>0</td>\n",
       "      <td>2</td>\n",
       "      <td>0</td>\n",
       "      <td>2</td>\n",
       "      <td>0</td>\n",
       "      <td>0</td>\n",
       "      <td>0</td>\n",
       "      <td>0</td>\n",
       "      <td>0</td>\n",
       "      <td>0</td>\n",
       "      <td>1</td>\n",
       "      <td>0</td>\n",
       "      <td>0</td>\n",
       "    </tr>\n",
       "    <tr>\n",
       "      <th>5</th>\n",
       "      <td>0</td>\n",
       "      <td>0</td>\n",
       "      <td>0</td>\n",
       "      <td>1</td>\n",
       "      <td>2</td>\n",
       "      <td>1</td>\n",
       "      <td>0</td>\n",
       "      <td>0</td>\n",
       "      <td>0</td>\n",
       "      <td>0</td>\n",
       "      <td>0</td>\n",
       "      <td>0</td>\n",
       "      <td>2</td>\n",
       "      <td>0</td>\n",
       "      <td>0</td>\n",
       "    </tr>\n",
       "    <tr>\n",
       "      <th>6</th>\n",
       "      <td>0</td>\n",
       "      <td>0</td>\n",
       "      <td>0</td>\n",
       "      <td>0</td>\n",
       "      <td>1</td>\n",
       "      <td>2</td>\n",
       "      <td>0</td>\n",
       "      <td>0</td>\n",
       "      <td>0</td>\n",
       "      <td>0</td>\n",
       "      <td>0</td>\n",
       "      <td>0</td>\n",
       "      <td>1</td>\n",
       "      <td>0</td>\n",
       "      <td>0</td>\n",
       "    </tr>\n",
       "    <tr>\n",
       "      <th>7</th>\n",
       "      <td>0</td>\n",
       "      <td>0</td>\n",
       "      <td>0</td>\n",
       "      <td>1</td>\n",
       "      <td>1</td>\n",
       "      <td>1</td>\n",
       "      <td>0</td>\n",
       "      <td>0</td>\n",
       "      <td>0</td>\n",
       "      <td>0</td>\n",
       "      <td>2</td>\n",
       "      <td>0</td>\n",
       "      <td>2</td>\n",
       "      <td>0</td>\n",
       "      <td>0</td>\n",
       "    </tr>\n",
       "    <tr>\n",
       "      <th>8</th>\n",
       "      <td>0</td>\n",
       "      <td>0</td>\n",
       "      <td>0</td>\n",
       "      <td>0</td>\n",
       "      <td>0</td>\n",
       "      <td>0</td>\n",
       "      <td>0</td>\n",
       "      <td>0</td>\n",
       "      <td>0</td>\n",
       "      <td>0</td>\n",
       "      <td>0</td>\n",
       "      <td>0</td>\n",
       "      <td>2</td>\n",
       "      <td>0</td>\n",
       "      <td>0</td>\n",
       "    </tr>\n",
       "    <tr>\n",
       "      <th>10</th>\n",
       "      <td>0</td>\n",
       "      <td>0</td>\n",
       "      <td>0</td>\n",
       "      <td>0</td>\n",
       "      <td>2</td>\n",
       "      <td>2</td>\n",
       "      <td>2</td>\n",
       "      <td>0</td>\n",
       "      <td>0</td>\n",
       "      <td>0</td>\n",
       "      <td>2</td>\n",
       "      <td>0</td>\n",
       "      <td>2</td>\n",
       "      <td>0</td>\n",
       "      <td>0</td>\n",
       "    </tr>\n",
       "  </tbody>\n",
       "</table>\n",
       "</div>"
      ],
      "text/plain": [
       "    Product10OwnershipFlag  Product11OwnershipFlag  Product12OwnershipFlag  \\\n",
       "0                        0                       0                       0   \n",
       "1                        0                       0                       0   \n",
       "2                        0                       0                       0   \n",
       "3                        0                       0                       0   \n",
       "4                        0                       0                       0   \n",
       "5                        0                       0                       0   \n",
       "6                        0                       0                       0   \n",
       "7                        0                       0                       0   \n",
       "8                        0                       0                       0   \n",
       "10                       0                       0                       0   \n",
       "\n",
       "    Product13OwnershipFlag  Product14OwnershipFlag  Product15OwnershipFlag  \\\n",
       "0                        0                       1                       0   \n",
       "1                        1                       2                       1   \n",
       "2                        1                       2                       0   \n",
       "3                        2                       2                       2   \n",
       "4                        2                       0                       2   \n",
       "5                        1                       2                       1   \n",
       "6                        0                       1                       2   \n",
       "7                        1                       1                       1   \n",
       "8                        0                       0                       0   \n",
       "10                       0                       2                       2   \n",
       "\n",
       "    Product1OwnershipFlag  Product2OwnershipFlag  Product3OwnershipFlag  \\\n",
       "0                       0                      0                      0   \n",
       "1                       0                      0                      0   \n",
       "2                       0                      0                      0   \n",
       "3                       2                      0                      0   \n",
       "4                       0                      0                      0   \n",
       "5                       0                      0                      0   \n",
       "6                       0                      0                      0   \n",
       "7                       0                      0                      0   \n",
       "8                       0                      0                      0   \n",
       "10                      2                      0                      0   \n",
       "\n",
       "    Product4OwnershipFlag  Product5OwnershipFlag  Product6OwnershipFlag  \\\n",
       "0                       0                      0                      0   \n",
       "1                       0                      2                      0   \n",
       "2                       0                      0                      0   \n",
       "3                       2                      2                      0   \n",
       "4                       0                      0                      0   \n",
       "5                       0                      0                      0   \n",
       "6                       0                      0                      0   \n",
       "7                       0                      2                      0   \n",
       "8                       0                      0                      0   \n",
       "10                      0                      2                      0   \n",
       "\n",
       "    Product7OwnershipFlag  Product8OwnershipFlag  Product9OwnershipFlag  \n",
       "0                       1                      0                      0  \n",
       "1                       2                      0                      0  \n",
       "2                       1                      1                      0  \n",
       "3                       1                      2                      0  \n",
       "4                       1                      0                      0  \n",
       "5                       2                      0                      0  \n",
       "6                       1                      0                      0  \n",
       "7                       2                      0                      0  \n",
       "8                       2                      0                      0  \n",
       "10                      2                      0                      0  "
      ]
     },
     "execution_count": 21,
     "metadata": {},
     "output_type": "execute_result"
    }
   ],
   "source": [
    "poColumns.head(10)"
   ]
  },
  {
   "cell_type": "code",
   "execution_count": 22,
   "metadata": {},
   "outputs": [],
   "source": [
    "totalProductOwnership = poColumns.T[poColumns.T > 0].count()"
   ]
  },
  {
   "cell_type": "code",
   "execution_count": 23,
   "metadata": {},
   "outputs": [
    {
     "name": "stdout",
     "output_type": "stream",
     "text": [
      "0        2\n",
      "1        5\n",
      "2        4\n",
      "3        8\n",
      "4        3\n",
      "        ..\n",
      "65994    5\n",
      "65995    2\n",
      "65996    4\n",
      "65997    4\n",
      "65998    2\n",
      "Length: 50872, dtype: int64\n"
     ]
    }
   ],
   "source": [
    "print(totalProductOwnership)"
   ]
  },
  {
   "cell_type": "code",
   "execution_count": 24,
   "metadata": {},
   "outputs": [],
   "source": [
    "sorted_data['TotalProductOwnership'] = totalProductOwnership"
   ]
  },
  {
   "cell_type": "code",
   "execution_count": 25,
   "metadata": {},
   "outputs": [
    {
     "name": "stdout",
     "output_type": "stream",
     "text": [
      "<class 'pandas.core.frame.DataFrame'>\n",
      "Int64Index: 50872 entries, 0 to 65998\n",
      "Data columns (total 61 columns):\n",
      " #   Column                                       Non-Null Count  Dtype  \n",
      "---  ------                                       --------------  -----  \n",
      " 0   ActiveProductAndChannelGroupNum              50872 non-null  int64  \n",
      " 1   AvgAtmTrxNumL6M                              50872 non-null  object \n",
      " 2   AvgAutoBillPaymentNumLM6                     50872 non-null  object \n",
      " 3   AvgBranchTrxNumL6M                           50872 non-null  object \n",
      " 4   AvgDemandDepositTrxNumL6M                    50872 non-null  object \n",
      " 5   AvgDemandDepositTrxUsdAmountL6M              50872 non-null  int64  \n",
      " 6   AvgFxDemandDepositTrxNumL3M                  50872 non-null  object \n",
      " 7   AvgFxDemandDepositTrxNumL6M                  50872 non-null  object \n",
      " 8   AvgFxDemandDepositTrxUsdAmountL3M            50872 non-null  int64  \n",
      " 9   AvgFxDemandDepositTrxUsdAmountL6M            50872 non-null  int64  \n",
      " 10  AvgInternetLoginNumL3M                       50872 non-null  object \n",
      " 11  AvgInternetTrxNumL3M                         50872 non-null  object \n",
      " 12  AvgInternetTrxNumL6M                         50872 non-null  object \n",
      " 13  AvgUsdAumL3M                                 50872 non-null  int64  \n",
      " 14  AvgUsdAumL6M                                 50872 non-null  int64  \n",
      " 15  BonusCampaignPromiseFlag                     50872 non-null  int64  \n",
      " 16  Channel1OwnershipFlag                        50872 non-null  int64  \n",
      " 17  Channel2OwnershipFlag                        50872 non-null  int64  \n",
      " 18  Channel3OwnershipFlag                        50872 non-null  int64  \n",
      " 19  ChurnFlag                                    50872 non-null  float64\n",
      " 20  ClosedAutoBillPaymentOrderDurationMonthL12M  50872 non-null  int64  \n",
      " 21  ClosedCreditCardDurationMonthL12M            50872 non-null  int64  \n",
      " 22  ClosedCreditCardFlag                         50872 non-null  int64  \n",
      " 23  ClosedOverdraftDurationMonthL12M             50872 non-null  int64  \n",
      " 24  ClosedPayrollDurationMonthL12M               50872 non-null  int64  \n",
      " 25  ClosedProductNumL3M                          50872 non-null  object \n",
      " 26  CustomerId                                   50872 non-null  object \n",
      " 27  DemandDepositBalanceDebtRatioLM6             50872 non-null  object \n",
      " 28  DifDayLast2FinancialTrxL12M                  50872 non-null  object \n",
      " 29  MaxLoanBalanceL24M                           50872 non-null  float64\n",
      " 30  MaxLoanRemainingMaturity                     50872 non-null  int64  \n",
      " 31  MaxUsdAumL24M                                50872 non-null  float64\n",
      " 32  NewOpenProductAndChannelNumLM                50872 non-null  int64  \n",
      " 33  PeriodOrder                                  50872 non-null  int64  \n",
      " 34  Product10OwnershipFlag                       50872 non-null  int64  \n",
      " 35  Product11OwnershipFlag                       50872 non-null  int64  \n",
      " 36  Product12OwnershipFlag                       50872 non-null  int64  \n",
      " 37  Product13OwnershipFlag                       50872 non-null  int64  \n",
      " 38  Product14OwnershipFlag                       50872 non-null  int64  \n",
      " 39  Product15OwnershipFlag                       50872 non-null  int64  \n",
      " 40  Product1OwnershipFlag                        50872 non-null  int64  \n",
      " 41  Product2OwnershipFlag                        50872 non-null  int64  \n",
      " 42  Product3OwnershipFlag                        50872 non-null  int64  \n",
      " 43  Product4OwnershipFlag                        50872 non-null  int64  \n",
      " 44  Product5OwnershipFlag                        50872 non-null  int64  \n",
      " 45  Product6OwnershipFlag                        50872 non-null  int64  \n",
      " 46  Product7OwnershipFlag                        50872 non-null  int64  \n",
      " 47  Product8OwnershipFlag                        50872 non-null  int64  \n",
      " 48  Product9OwnershipFlag                        50872 non-null  int64  \n",
      " 49  ProfitSegment                                50872 non-null  object \n",
      " 50  SumCcIvrTrxNumL3M                            50872 non-null  int64  \n",
      " 51  SumCcIvrTrxNumL6M                            50872 non-null  int64  \n",
      " 52  SumDemandDepositTrxNumL3M                    50872 non-null  float64\n",
      " 53  SumDemandDepositTrxNumL6M                    50872 non-null  float64\n",
      " 54  SumDemandDepositTrxTypeNumLM                 50872 non-null  int64  \n",
      " 55  SumLoanBalanceUsdLM                          50872 non-null  float64\n",
      " 56  SumUsdAum                                    50872 non-null  float64\n",
      " 57  ValidationFlag                               50872 non-null  int64  \n",
      " 58  ValueBasedSegment                            50872 non-null  object \n",
      " 59  YearlyIncome                                 50872 non-null  float64\n",
      " 60  TotalProductOwnership                        50872 non-null  int64  \n",
      "dtypes: float64(8), int64(38), object(15)\n",
      "memory usage: 24.1+ MB\n",
      "None\n"
     ]
    }
   ],
   "source": [
    "print(sorted_data.info())"
   ]
  },
  {
   "cell_type": "code",
   "execution_count": 26,
   "metadata": {},
   "outputs": [
    {
     "name": "stdout",
     "output_type": "stream",
     "text": [
      "<class 'pandas.core.frame.DataFrame'>\n",
      "Int64Index: 50872 entries, 0 to 65998\n",
      "Data columns (total 46 columns):\n",
      " #   Column                                       Non-Null Count  Dtype  \n",
      "---  ------                                       --------------  -----  \n",
      " 0   ActiveProductAndChannelGroupNum              50872 non-null  int64  \n",
      " 1   AvgAtmTrxNumL6M                              50872 non-null  object \n",
      " 2   AvgAutoBillPaymentNumLM6                     50872 non-null  object \n",
      " 3   AvgBranchTrxNumL6M                           50872 non-null  object \n",
      " 4   AvgDemandDepositTrxNumL6M                    50872 non-null  object \n",
      " 5   AvgDemandDepositTrxUsdAmountL6M              50872 non-null  int64  \n",
      " 6   AvgFxDemandDepositTrxNumL3M                  50872 non-null  object \n",
      " 7   AvgFxDemandDepositTrxNumL6M                  50872 non-null  object \n",
      " 8   AvgFxDemandDepositTrxUsdAmountL3M            50872 non-null  int64  \n",
      " 9   AvgFxDemandDepositTrxUsdAmountL6M            50872 non-null  int64  \n",
      " 10  AvgInternetLoginNumL3M                       50872 non-null  object \n",
      " 11  AvgInternetTrxNumL3M                         50872 non-null  object \n",
      " 12  AvgInternetTrxNumL6M                         50872 non-null  object \n",
      " 13  AvgUsdAumL3M                                 50872 non-null  int64  \n",
      " 14  AvgUsdAumL6M                                 50872 non-null  int64  \n",
      " 15  BonusCampaignPromiseFlag                     50872 non-null  int64  \n",
      " 16  Channel1OwnershipFlag                        50872 non-null  int64  \n",
      " 17  Channel2OwnershipFlag                        50872 non-null  int64  \n",
      " 18  Channel3OwnershipFlag                        50872 non-null  int64  \n",
      " 19  ChurnFlag                                    50872 non-null  float64\n",
      " 20  ClosedAutoBillPaymentOrderDurationMonthL12M  50872 non-null  int64  \n",
      " 21  ClosedCreditCardDurationMonthL12M            50872 non-null  int64  \n",
      " 22  ClosedCreditCardFlag                         50872 non-null  int64  \n",
      " 23  ClosedOverdraftDurationMonthL12M             50872 non-null  int64  \n",
      " 24  ClosedPayrollDurationMonthL12M               50872 non-null  int64  \n",
      " 25  ClosedProductNumL3M                          50872 non-null  object \n",
      " 26  CustomerId                                   50872 non-null  object \n",
      " 27  DemandDepositBalanceDebtRatioLM6             50872 non-null  object \n",
      " 28  DifDayLast2FinancialTrxL12M                  50872 non-null  object \n",
      " 29  MaxLoanBalanceL24M                           50872 non-null  float64\n",
      " 30  MaxLoanRemainingMaturity                     50872 non-null  int64  \n",
      " 31  MaxUsdAumL24M                                50872 non-null  float64\n",
      " 32  NewOpenProductAndChannelNumLM                50872 non-null  int64  \n",
      " 33  PeriodOrder                                  50872 non-null  int64  \n",
      " 34  ProfitSegment                                50872 non-null  object \n",
      " 35  SumCcIvrTrxNumL3M                            50872 non-null  int64  \n",
      " 36  SumCcIvrTrxNumL6M                            50872 non-null  int64  \n",
      " 37  SumDemandDepositTrxNumL3M                    50872 non-null  float64\n",
      " 38  SumDemandDepositTrxNumL6M                    50872 non-null  float64\n",
      " 39  SumDemandDepositTrxTypeNumLM                 50872 non-null  int64  \n",
      " 40  SumLoanBalanceUsdLM                          50872 non-null  float64\n",
      " 41  SumUsdAum                                    50872 non-null  float64\n",
      " 42  ValidationFlag                               50872 non-null  int64  \n",
      " 43  ValueBasedSegment                            50872 non-null  object \n",
      " 44  YearlyIncome                                 50872 non-null  float64\n",
      " 45  TotalProductOwnership                        50872 non-null  int64  \n",
      "dtypes: float64(8), int64(23), object(15)\n",
      "memory usage: 18.2+ MB\n",
      "None\n"
     ]
    }
   ],
   "source": [
    "sorted_data = sorted_data.drop(poColumns, axis=1)\n",
    "print(sorted_data.info())"
   ]
  },
  {
   "cell_type": "code",
   "execution_count": 27,
   "metadata": {},
   "outputs": [
    {
     "data": {
      "text/plain": [
       "0        2\n",
       "1        5\n",
       "2        4\n",
       "3        8\n",
       "4        3\n",
       "        ..\n",
       "65994    5\n",
       "65995    2\n",
       "65996    4\n",
       "65997    4\n",
       "65998    2\n",
       "Name: TotalProductOwnership, Length: 50872, dtype: int64"
      ]
     },
     "execution_count": 27,
     "metadata": {},
     "output_type": "execute_result"
    }
   ],
   "source": [
    "sorted_data['TotalProductOwnership']"
   ]
  },
  {
   "cell_type": "markdown",
   "metadata": {},
   "source": [
    "#### Cheked ChurnFlag correlation after creation of TotalProductOwnership column"
   ]
  },
  {
   "cell_type": "code",
   "execution_count": 28,
   "metadata": {},
   "outputs": [
    {
     "data": {
      "text/plain": [
       "ChurnFlag                                      1.000000\n",
       "ClosedCreditCardFlag                           0.040596\n",
       "ClosedPayrollDurationMonthL12M                 0.036551\n",
       "AvgDemandDepositTrxUsdAmountL6M               -0.001801\n",
       "ClosedOverdraftDurationMonthL12M              -0.005343\n",
       "SumUsdAum                                     -0.007413\n",
       "MaxUsdAumL24M                                 -0.007453\n",
       "AvgFxDemandDepositTrxUsdAmountL6M             -0.007456\n",
       "AvgFxDemandDepositTrxUsdAmountL3M             -0.007468\n",
       "AvgUsdAumL3M                                  -0.008408\n",
       "AvgUsdAumL6M                                  -0.009405\n",
       "YearlyIncome                                  -0.010426\n",
       "ClosedCreditCardDurationMonthL12M             -0.016579\n",
       "BonusCampaignPromiseFlag                      -0.021875\n",
       "SumCcIvrTrxNumL3M                             -0.023013\n",
       "SumCcIvrTrxNumL6M                             -0.024318\n",
       "Channel1OwnershipFlag                         -0.025774\n",
       "NewOpenProductAndChannelNumLM                 -0.030171\n",
       "Channel3OwnershipFlag                         -0.040708\n",
       "MaxLoanBalanceL24M                            -0.046272\n",
       "SumLoanBalanceUsdLM                           -0.048576\n",
       "ClosedAutoBillPaymentOrderDurationMonthL12M   -0.059568\n",
       "SumDemandDepositTrxNumL6M                     -0.106982\n",
       "MaxLoanRemainingMaturity                      -0.112813\n",
       "SumDemandDepositTrxNumL3M                     -0.120320\n",
       "SumDemandDepositTrxTypeNumLM                  -0.168816\n",
       "Channel2OwnershipFlag                         -0.177361\n",
       "TotalProductOwnership                         -0.179430\n",
       "ActiveProductAndChannelGroupNum               -0.225384\n",
       "PeriodOrder                                         NaN\n",
       "ValidationFlag                                      NaN\n",
       "Name: ChurnFlag, dtype: float64"
      ]
     },
     "execution_count": 28,
     "metadata": {},
     "output_type": "execute_result"
    }
   ],
   "source": [
    "corr = sorted_data.corr()\n",
    "corr[\"ChurnFlag\"].sort_values(ascending=False)"
   ]
  },
  {
   "cell_type": "code",
   "execution_count": 29,
   "metadata": {},
   "outputs": [
    {
     "data": {
      "text/plain": [
       "0                      0\n",
       "1    1957-10-01 00:00:00\n",
       "2                  19.49\n",
       "3    2021-04-06 00:00:00\n",
       "4    1957-10-01 00:00:00\n",
       "Name: AvgAtmTrxNumL6M, dtype: object"
      ]
     },
     "execution_count": 29,
     "metadata": {},
     "output_type": "execute_result"
    }
   ],
   "source": [
    "sorted_data['AvgAtmTrxNumL6M'].head(5)"
   ]
  },
  {
   "cell_type": "markdown",
   "metadata": {},
   "source": [
    "#### Columns where type='object' and includes dates found.\n",
    "Parsed and prepared invalid data"
   ]
  },
  {
   "cell_type": "code",
   "execution_count": 30,
   "metadata": {},
   "outputs": [],
   "source": [
    "def check_date_for_column(column, sorted_data):\n",
    "    try:\n",
    "        if column in sorted_data:\n",
    "            if sorted_data[column].dtypes == 'object':\n",
    "                for index, row in sorted_data[column].iteritems():   \n",
    "                    if len(str(row)) == 19:\n",
    "                        date = parse(str(row))\n",
    "        return\n",
    "    except Exception as e:\n",
    "        return\n",
    "\n",
    "for col in sorted_data.columns:\n",
    "    check_date_for_column(col, sorted_data)"
   ]
  },
  {
   "cell_type": "markdown",
   "metadata": {},
   "source": [
    "#### Invalid date rows fixed with transform_method for detected columns"
   ]
  },
  {
   "cell_type": "code",
   "execution_count": 31,
   "metadata": {},
   "outputs": [
    {
     "name": "stdout",
     "output_type": "stream",
     "text": [
      "AvgBranchTrxNumL6M started to process\n",
      "SumNewAutoBillPaymentOrderNumLM started to process\n",
      "SumAutoBillPaymentNumLM started to process\n",
      "AvgAutoBillPaymentNumLM6 started to process\n",
      "DemandDepositBalanceDebtRatioLM6 started to process\n",
      "AvgAtmTrxNumL6M started to process\n",
      "AvgFxDemandDepositTrxNumL6M started to process\n",
      "AvgFxDemandDepositTrxNumL3M started to process\n",
      "AvgDemandDepositTrxNumL6M started to process\n",
      "AvgInternetTrxNumL6M started to process\n",
      "AvgInternetTrxNumL3M started to process\n",
      "AvgInternetLoginNumL3M started to process\n",
      "AvgEftNumL6M started to process\n",
      "AvgEftNumL3M started to process\n",
      "ClosedProductNumL3M started to process\n",
      "DifDayLast2FinancialTrxL12M started to process\n"
     ]
    }
   ],
   "source": [
    "from dateutil.parser import parse\n",
    "\n",
    "def transform_method(column, sorted_data):\n",
    "    print(column , 'started to process')\n",
    "    if column in sorted_data:\n",
    "        for index, row in sorted_data[column].iteritems():     \n",
    "            if len(str(row)) > 12:\n",
    "                date = parse(str(row))\n",
    "                if date.year == 2021:\n",
    "                    row = float(str(date.day) + '.' + str(date.month))\n",
    "                    sorted_data.at[index,column]= row\n",
    "                else:\n",
    "                    row = float(str(date.month) + '.' + str(date.year)[-2:])\n",
    "                    sorted_data.at[index,column]= row\n",
    "    return\n",
    "\n",
    "liste = ['AvgBranchTrxNumL6M',\n",
    "'SumNewAutoBillPaymentOrderNumLM',\n",
    "'SumAutoBillPaymentNumLM',\n",
    "'AvgAutoBillPaymentNumLM6',\n",
    "'DemandDepositBalanceDebtRatioLM6',\n",
    "'AvgAtmTrxNumL6M',\n",
    "'AvgFxDemandDepositTrxNumL6M',\n",
    "'AvgFxDemandDepositTrxNumL3M',\n",
    "'AvgDemandDepositTrxNumL6M',\n",
    "'AvgInternetTrxNumL6M',\n",
    "'AvgInternetTrxNumL3M',\n",
    "'AvgInternetLoginNumL3M',\n",
    "'AvgEftNumL6M',\n",
    "'AvgEftNumL3M',\n",
    "'ClosedProductNumL3M',\n",
    "'DifDayLast2FinancialTrxL12M',\n",
    "]\n",
    "\n",
    "\n",
    "for item in liste:\n",
    "    transform_method(item, sorted_data)"
   ]
  },
  {
   "cell_type": "markdown",
   "metadata": {},
   "source": [
    "## Logistic Regression model created for feature importance\n"
   ]
  },
  {
   "cell_type": "code",
   "execution_count": 32,
   "metadata": {},
   "outputs": [
    {
     "name": "stdout",
     "output_type": "stream",
     "text": [
      "(50872, 46)\n"
     ]
    }
   ],
   "source": [
    "# logistic regression for feature importance\n",
    "from sklearn.linear_model import LogisticRegression\n",
    "from matplotlib import pyplot\n",
    "\n",
    "# define the model\n",
    "model = LogisticRegression()\n",
    "print(sorted_data.shape)\n",
    "# fit the model\n",
    "y = sorted_data['ChurnFlag']\n",
    "X = sorted_data.drop(['ChurnFlag'], axis=1)\n",
    "X = sorted_data.drop(['CustomerId'], axis=1)"
   ]
  },
  {
   "cell_type": "code",
   "execution_count": 33,
   "metadata": {},
   "outputs": [],
   "source": [
    "from sklearn import preprocessing\n",
    "le = preprocessing.LabelEncoder()\n",
    "X['ProfitSegment'] = le.fit_transform(X['ProfitSegment'])\n",
    "X['ValueBasedSegment'] = le.fit_transform(X['ValueBasedSegment'])"
   ]
  },
  {
   "cell_type": "code",
   "execution_count": 34,
   "metadata": {},
   "outputs": [
    {
     "name": "stdout",
     "output_type": "stream",
     "text": [
      "[-1.35506189e-02 -5.58618855e-02 -2.20584586e-03 -1.34377299e-03\n",
      " -3.97136319e-02  1.22299356e-06 -2.89018274e-04 -2.21783565e-04\n",
      " -1.32148786e-05  1.48471347e-05 -1.13784252e-03 -5.03291854e-04\n",
      " -5.05729836e-04  7.88319162e-05  1.16492643e-05 -2.77724093e-04\n",
      " -4.08562505e-03 -6.17121761e-03 -3.34092493e-03  1.39547455e-03\n",
      "  1.69316897e-03 -1.12712953e-03 -2.71869760e-04 -1.17188483e-03\n",
      "  2.23751812e-03 -1.68676316e-04 -2.52950087e-02 -1.19420687e-03\n",
      " -8.05354636e-06 -5.17024733e-03 -1.50243633e-05 -1.14286731e-04\n",
      " -5.38039223e-02 -1.20976711e-02 -5.04334285e-04 -3.46331615e-04\n",
      " -1.75648802e-02 -2.06294749e-02 -1.39746568e-02 -2.11918559e-04\n",
      " -1.28778192e-04  0.00000000e+00 -8.80109073e-03 -6.56635303e-06\n",
      " -1.56860097e-02]\n"
     ]
    },
    {
     "name": "stderr",
     "output_type": "stream",
     "text": [
      "D:\\anaconda3\\lib\\site-packages\\sklearn\\linear_model\\_logistic.py:762: ConvergenceWarning: lbfgs failed to converge (status=1):\n",
      "STOP: TOTAL NO. of ITERATIONS REACHED LIMIT.\n",
      "\n",
      "Increase the number of iterations (max_iter) or scale the data as shown in:\n",
      "    https://scikit-learn.org/stable/modules/preprocessing.html\n",
      "Please also refer to the documentation for alternative solver options:\n",
      "    https://scikit-learn.org/stable/modules/linear_model.html#logistic-regression\n",
      "  n_iter_i = _check_optimize_result(\n"
     ]
    }
   ],
   "source": [
    "model.fit(X, y)\n",
    "# get importance\n",
    "importance = model.coef_[0]\n",
    "# summarize feature importance\n",
    "print(importance)"
   ]
  },
  {
   "cell_type": "markdown",
   "metadata": {},
   "source": [
    "#### IncreaseCcIvrTrxNum Column created\n",
    "We got difference of SumCcIvrTrxNumL6M and SumCcIvrTrxNumL3M columns to detect calls increased in 3 months or decreased"
   ]
  },
  {
   "cell_type": "code",
   "execution_count": 35,
   "metadata": {
    "scrolled": true
   },
   "outputs": [
    {
     "name": "stdout",
     "output_type": "stream",
     "text": [
      "0    0\n",
      "1    0\n",
      "2    0\n",
      "3    0\n",
      "4    0\n",
      "Name: IncreaseCcIvrTrxNum, dtype: int64\n"
     ]
    },
    {
     "data": {
      "text/plain": [
       "ChurnFlag                                      1.000000\n",
       "ProfitSegment                                  0.119418\n",
       "ValueBasedSegment                              0.042577\n",
       "ClosedCreditCardFlag                           0.040596\n",
       "ClosedPayrollDurationMonthL12M                 0.036551\n",
       "AvgDemandDepositTrxUsdAmountL6M               -0.001801\n",
       "ClosedOverdraftDurationMonthL12M              -0.005343\n",
       "SumUsdAum                                     -0.007413\n",
       "MaxUsdAumL24M                                 -0.007453\n",
       "AvgFxDemandDepositTrxUsdAmountL6M             -0.007456\n",
       "AvgFxDemandDepositTrxUsdAmountL3M             -0.007468\n",
       "AvgUsdAumL3M                                  -0.008408\n",
       "AvgUsdAumL6M                                  -0.009405\n",
       "YearlyIncome                                  -0.010426\n",
       "ClosedCreditCardDurationMonthL12M             -0.016579\n",
       "IncreaseCcIvrTrxNum                           -0.020672\n",
       "BonusCampaignPromiseFlag                      -0.021875\n",
       "SumCcIvrTrxNumL3M                             -0.023013\n",
       "SumCcIvrTrxNumL6M                             -0.024318\n",
       "Channel1OwnershipFlag                         -0.025774\n",
       "NewOpenProductAndChannelNumLM                 -0.030171\n",
       "Channel3OwnershipFlag                         -0.040708\n",
       "MaxLoanBalanceL24M                            -0.046272\n",
       "SumLoanBalanceUsdLM                           -0.048576\n",
       "ClosedAutoBillPaymentOrderDurationMonthL12M   -0.059568\n",
       "SumDemandDepositTrxNumL6M                     -0.106982\n",
       "MaxLoanRemainingMaturity                      -0.112813\n",
       "SumDemandDepositTrxNumL3M                     -0.120320\n",
       "SumDemandDepositTrxTypeNumLM                  -0.168816\n",
       "Channel2OwnershipFlag                         -0.177361\n",
       "TotalProductOwnership                         -0.179430\n",
       "ActiveProductAndChannelGroupNum               -0.225384\n",
       "PeriodOrder                                         NaN\n",
       "ValidationFlag                                      NaN\n",
       "Name: ChurnFlag, dtype: float64"
      ]
     },
     "execution_count": 35,
     "metadata": {},
     "output_type": "execute_result"
    }
   ],
   "source": [
    "first3M = X['SumCcIvrTrxNumL6M'].sub(X['SumCcIvrTrxNumL3M'], axis = 0)\n",
    "first3M.to_numpy()\n",
    "indices_increased = first3M > 0\n",
    "indices_decreased = first3M <= 0\n",
    "first3M[indices_increased] = 1 \n",
    "first3M[indices_decreased] = 0\n",
    "X['IncreaseCcIvrTrxNum'] = first3M\n",
    "print(X['IncreaseCcIvrTrxNum'].head(5))\n",
    "\n",
    "corr = X.corr()\n",
    "corr[\"ChurnFlag\"].sort_values(ascending=False)\n"
   ]
  },
  {
   "cell_type": "code",
   "execution_count": 36,
   "metadata": {},
   "outputs": [
    {
     "name": "stdout",
     "output_type": "stream",
     "text": [
      "<class 'pandas.core.frame.DataFrame'>\n",
      "Int64Index: 50872 entries, 0 to 65998\n",
      "Data columns (total 46 columns):\n",
      " #   Column                                       Non-Null Count  Dtype  \n",
      "---  ------                                       --------------  -----  \n",
      " 0   ActiveProductAndChannelGroupNum              50872 non-null  int64  \n",
      " 1   AvgAtmTrxNumL6M                              50872 non-null  object \n",
      " 2   AvgAutoBillPaymentNumLM6                     50872 non-null  object \n",
      " 3   AvgBranchTrxNumL6M                           50872 non-null  object \n",
      " 4   AvgDemandDepositTrxNumL6M                    50872 non-null  object \n",
      " 5   AvgDemandDepositTrxUsdAmountL6M              50872 non-null  int64  \n",
      " 6   AvgFxDemandDepositTrxNumL3M                  50872 non-null  object \n",
      " 7   AvgFxDemandDepositTrxNumL6M                  50872 non-null  object \n",
      " 8   AvgFxDemandDepositTrxUsdAmountL3M            50872 non-null  int64  \n",
      " 9   AvgFxDemandDepositTrxUsdAmountL6M            50872 non-null  int64  \n",
      " 10  AvgInternetLoginNumL3M                       50872 non-null  object \n",
      " 11  AvgInternetTrxNumL3M                         50872 non-null  object \n",
      " 12  AvgInternetTrxNumL6M                         50872 non-null  object \n",
      " 13  AvgUsdAumL3M                                 50872 non-null  int64  \n",
      " 14  AvgUsdAumL6M                                 50872 non-null  int64  \n",
      " 15  BonusCampaignPromiseFlag                     50872 non-null  int64  \n",
      " 16  Channel1OwnershipFlag                        50872 non-null  int64  \n",
      " 17  Channel2OwnershipFlag                        50872 non-null  int64  \n",
      " 18  Channel3OwnershipFlag                        50872 non-null  int64  \n",
      " 19  ChurnFlag                                    50872 non-null  float64\n",
      " 20  ClosedAutoBillPaymentOrderDurationMonthL12M  50872 non-null  int64  \n",
      " 21  ClosedCreditCardDurationMonthL12M            50872 non-null  int64  \n",
      " 22  ClosedCreditCardFlag                         50872 non-null  int64  \n",
      " 23  ClosedOverdraftDurationMonthL12M             50872 non-null  int64  \n",
      " 24  ClosedPayrollDurationMonthL12M               50872 non-null  int64  \n",
      " 25  ClosedProductNumL3M                          50872 non-null  object \n",
      " 26  DemandDepositBalanceDebtRatioLM6             50872 non-null  object \n",
      " 27  DifDayLast2FinancialTrxL12M                  50872 non-null  object \n",
      " 28  IncreaseCcIvrTrxNum                          50872 non-null  int64  \n",
      " 29  MaxLoanBalanceL24M                           50872 non-null  float64\n",
      " 30  MaxLoanRemainingMaturity                     50872 non-null  int64  \n",
      " 31  MaxUsdAumL24M                                50872 non-null  float64\n",
      " 32  NewOpenProductAndChannelNumLM                50872 non-null  int64  \n",
      " 33  PeriodOrder                                  50872 non-null  int64  \n",
      " 34  ProfitSegment                                50872 non-null  int32  \n",
      " 35  SumCcIvrTrxNumL3M                            50872 non-null  int64  \n",
      " 36  SumCcIvrTrxNumL6M                            50872 non-null  int64  \n",
      " 37  SumDemandDepositTrxNumL3M                    50872 non-null  float64\n",
      " 38  SumDemandDepositTrxNumL6M                    50872 non-null  float64\n",
      " 39  SumDemandDepositTrxTypeNumLM                 50872 non-null  int64  \n",
      " 40  SumLoanBalanceUsdLM                          50872 non-null  float64\n",
      " 41  SumUsdAum                                    50872 non-null  float64\n",
      " 42  TotalProductOwnership                        50872 non-null  int64  \n",
      " 43  ValidationFlag                               50872 non-null  int64  \n",
      " 44  ValueBasedSegment                            50872 non-null  int32  \n",
      " 45  YearlyIncome                                 50872 non-null  float64\n",
      "dtypes: float64(8), int32(2), int64(24), object(12)\n",
      "memory usage: 20.4+ MB\n"
     ]
    }
   ],
   "source": [
    "sorted_data = X.reindex(sorted(X.columns), axis=1)\n",
    "sorted_data.info()"
   ]
  },
  {
   "cell_type": "markdown",
   "metadata": {},
   "source": [
    "### Insight for Channel1OwnershipFlag \tChannel2OwnershipFlag \tChannel3OwnershipFlag\n",
    "Decided to create total active channel ownership with these columns."
   ]
  },
  {
   "cell_type": "code",
   "execution_count": 37,
   "metadata": {},
   "outputs": [],
   "source": [
    "channelcolumns = sorted_data.iloc[:, 16:19]"
   ]
  },
  {
   "cell_type": "code",
   "execution_count": 38,
   "metadata": {},
   "outputs": [
    {
     "data": {
      "text/html": [
       "<div>\n",
       "<style scoped>\n",
       "    .dataframe tbody tr th:only-of-type {\n",
       "        vertical-align: middle;\n",
       "    }\n",
       "\n",
       "    .dataframe tbody tr th {\n",
       "        vertical-align: top;\n",
       "    }\n",
       "\n",
       "    .dataframe thead th {\n",
       "        text-align: right;\n",
       "    }\n",
       "</style>\n",
       "<table border=\"1\" class=\"dataframe\">\n",
       "  <thead>\n",
       "    <tr style=\"text-align: right;\">\n",
       "      <th></th>\n",
       "      <th>Channel1OwnershipFlag</th>\n",
       "      <th>Channel2OwnershipFlag</th>\n",
       "      <th>Channel3OwnershipFlag</th>\n",
       "    </tr>\n",
       "  </thead>\n",
       "  <tbody>\n",
       "    <tr>\n",
       "      <th>0</th>\n",
       "      <td>1</td>\n",
       "      <td>0</td>\n",
       "      <td>1</td>\n",
       "    </tr>\n",
       "    <tr>\n",
       "      <th>1</th>\n",
       "      <td>0</td>\n",
       "      <td>2</td>\n",
       "      <td>1</td>\n",
       "    </tr>\n",
       "    <tr>\n",
       "      <th>2</th>\n",
       "      <td>2</td>\n",
       "      <td>2</td>\n",
       "      <td>1</td>\n",
       "    </tr>\n",
       "    <tr>\n",
       "      <th>3</th>\n",
       "      <td>1</td>\n",
       "      <td>2</td>\n",
       "      <td>1</td>\n",
       "    </tr>\n",
       "    <tr>\n",
       "      <th>4</th>\n",
       "      <td>0</td>\n",
       "      <td>2</td>\n",
       "      <td>0</td>\n",
       "    </tr>\n",
       "    <tr>\n",
       "      <th>...</th>\n",
       "      <td>...</td>\n",
       "      <td>...</td>\n",
       "      <td>...</td>\n",
       "    </tr>\n",
       "    <tr>\n",
       "      <th>65994</th>\n",
       "      <td>2</td>\n",
       "      <td>2</td>\n",
       "      <td>1</td>\n",
       "    </tr>\n",
       "    <tr>\n",
       "      <th>65995</th>\n",
       "      <td>0</td>\n",
       "      <td>0</td>\n",
       "      <td>0</td>\n",
       "    </tr>\n",
       "    <tr>\n",
       "      <th>65996</th>\n",
       "      <td>0</td>\n",
       "      <td>0</td>\n",
       "      <td>1</td>\n",
       "    </tr>\n",
       "    <tr>\n",
       "      <th>65997</th>\n",
       "      <td>2</td>\n",
       "      <td>2</td>\n",
       "      <td>1</td>\n",
       "    </tr>\n",
       "    <tr>\n",
       "      <th>65998</th>\n",
       "      <td>0</td>\n",
       "      <td>0</td>\n",
       "      <td>0</td>\n",
       "    </tr>\n",
       "  </tbody>\n",
       "</table>\n",
       "<p>50872 rows × 3 columns</p>\n",
       "</div>"
      ],
      "text/plain": [
       "       Channel1OwnershipFlag  Channel2OwnershipFlag  Channel3OwnershipFlag\n",
       "0                          1                      0                      1\n",
       "1                          0                      2                      1\n",
       "2                          2                      2                      1\n",
       "3                          1                      2                      1\n",
       "4                          0                      2                      0\n",
       "...                      ...                    ...                    ...\n",
       "65994                      2                      2                      1\n",
       "65995                      0                      0                      0\n",
       "65996                      0                      0                      1\n",
       "65997                      2                      2                      1\n",
       "65998                      0                      0                      0\n",
       "\n",
       "[50872 rows x 3 columns]"
      ]
     },
     "execution_count": 38,
     "metadata": {},
     "output_type": "execute_result"
    }
   ],
   "source": [
    "channelcolumns"
   ]
  },
  {
   "cell_type": "code",
   "execution_count": 39,
   "metadata": {},
   "outputs": [
    {
     "data": {
      "text/plain": [
       "0        0\n",
       "1        1\n",
       "2        2\n",
       "3        1\n",
       "4        1\n",
       "        ..\n",
       "65994    2\n",
       "65995    0\n",
       "65996    0\n",
       "65997    2\n",
       "65998    0\n",
       "Length: 50872, dtype: int64"
      ]
     },
     "execution_count": 39,
     "metadata": {},
     "output_type": "execute_result"
    }
   ],
   "source": [
    "totalActiveChannelOwnership = channelcolumns.T[channelcolumns.T > 1].count()\n",
    "totalActiveChannelOwnership"
   ]
  },
  {
   "cell_type": "code",
   "execution_count": 40,
   "metadata": {},
   "outputs": [],
   "source": [
    "X['TotalActiveChannelOwnership'] = totalActiveChannelOwnership"
   ]
  },
  {
   "cell_type": "code",
   "execution_count": 41,
   "metadata": {},
   "outputs": [
    {
     "name": "stdout",
     "output_type": "stream",
     "text": [
      "(4756, 47)\n"
     ]
    }
   ],
   "source": [
    "corr = X.corr()\n",
    "corr[\"ChurnFlag\"].sort_values(ascending=False)\n",
    "churn = X.loc[X['ChurnFlag'] == 1]\n",
    "print(churn.shape)"
   ]
  },
  {
   "cell_type": "markdown",
   "metadata": {},
   "source": [
    "## Logistic Regression model created for Churn Prediction"
   ]
  },
  {
   "cell_type": "code",
   "execution_count": 42,
   "metadata": {},
   "outputs": [
    {
     "name": "stderr",
     "output_type": "stream",
     "text": [
      "D:\\anaconda3\\lib\\site-packages\\sklearn\\utils\\validation.py:72: DataConversionWarning: A column-vector y was passed when a 1d array was expected. Please change the shape of y to (n_samples, ), for example using ravel().\n",
      "  return f(**kwargs)\n"
     ]
    },
    {
     "name": "stdout",
     "output_type": "stream",
     "text": [
      "[[13802    27]\n",
      " [ 1418    15]]\n"
     ]
    },
    {
     "name": "stderr",
     "output_type": "stream",
     "text": [
      "D:\\anaconda3\\lib\\site-packages\\sklearn\\linear_model\\_logistic.py:762: ConvergenceWarning: lbfgs failed to converge (status=1):\n",
      "STOP: TOTAL NO. of ITERATIONS REACHED LIMIT.\n",
      "\n",
      "Increase the number of iterations (max_iter) or scale the data as shown in:\n",
      "    https://scikit-learn.org/stable/modules/preprocessing.html\n",
      "Please also refer to the documentation for alternative solver options:\n",
      "    https://scikit-learn.org/stable/modules/linear_model.html#logistic-regression\n",
      "  n_iter_i = _check_optimize_result(\n"
     ]
    }
   ],
   "source": [
    "from sklearn.linear_model import LogisticRegression\n",
    "from sklearn.preprocessing import MinMaxScaler, StandardScaler\n",
    "from sklearn.model_selection import train_test_split\n",
    "from sklearn.metrics import confusion_matrix\n",
    "from sklearn import metrics\n",
    "import numpy as np\n",
    "\n",
    "target = X['ChurnFlag']\n",
    "target = target.to_numpy()\n",
    "target = target.reshape(-1, 1)\n",
    "\n",
    "values = X.drop(['ChurnFlag'],axis=1)\n",
    "scaler = StandardScaler()\n",
    "scaled = scaler.fit_transform(values)\n",
    "inputs = pd.DataFrame(scaled)\n",
    "\n",
    "\n",
    "X_train, X_test, y_train, y_test = train_test_split( inputs, target, test_size=0.3, random_state=42)\n",
    "\n",
    "regressor = LogisticRegression()\n",
    "regressor.fit(X_train, y_train)\n",
    "y_pred = regressor.predict(X_test)\n",
    "print(confusion_matrix(y_test, y_pred))\n"
   ]
  },
  {
   "cell_type": "code",
   "execution_count": 43,
   "metadata": {},
   "outputs": [
    {
     "data": {
      "text/plain": [
       "0.02033898305084746"
      ]
     },
     "execution_count": 43,
     "metadata": {},
     "output_type": "execute_result"
    }
   ],
   "source": [
    "from sklearn.metrics import f1_score\n",
    "f1_score(y_test, y_pred)"
   ]
  },
  {
   "cell_type": "code",
   "execution_count": 44,
   "metadata": {},
   "outputs": [
    {
     "data": {
      "text/plain": [
       "(13802, 27, 1418, 15)"
      ]
     },
     "execution_count": 44,
     "metadata": {},
     "output_type": "execute_result"
    }
   ],
   "source": [
    "tn, fp, fn, tp = confusion_matrix(y_test, y_pred).ravel()\n",
    "(tn, fp, fn, tp)"
   ]
  },
  {
   "cell_type": "markdown",
   "metadata": {},
   "source": [
    "#### Because of unbalanced ChurnFlag distribution we decided to remove some of Non-Churn rows for Machine Learning accuracy."
   ]
  },
  {
   "cell_type": "code",
   "execution_count": 45,
   "metadata": {},
   "outputs": [
    {
     "name": "stdout",
     "output_type": "stream",
     "text": [
      "(14079, 47)\n",
      "(4756, 47)\n"
     ]
    }
   ],
   "source": [
    "churnfalsefirst10k = X.loc[X['ChurnFlag'] == 0].loc[:20000,]\n",
    "print(churnfalsefirst10k.shape)\n",
    "churntrue = X.loc[X['ChurnFlag'] == 1]\n",
    "print(churntrue.shape)\n"
   ]
  },
  {
   "cell_type": "markdown",
   "metadata": {},
   "source": [
    "#### Balanced Dataframes merged"
   ]
  },
  {
   "cell_type": "code",
   "execution_count": 46,
   "metadata": {},
   "outputs": [
    {
     "name": "stdout",
     "output_type": "stream",
     "text": [
      "(18835, 47)\n"
     ]
    }
   ],
   "source": [
    "frames = [churnfalsefirst10k, churntrue]\n",
    "result = pd.concat(frames)\n",
    "print(result.shape)"
   ]
  },
  {
   "cell_type": "markdown",
   "metadata": {},
   "source": [
    "### Logistic Regression for Churn Prediction After Balancing Dataset"
   ]
  },
  {
   "cell_type": "code",
   "execution_count": 47,
   "metadata": {},
   "outputs": [
    {
     "name": "stdout",
     "output_type": "stream",
     "text": [
      "[[3879  363]\n",
      " [ 885  524]]\n"
     ]
    },
    {
     "name": "stderr",
     "output_type": "stream",
     "text": [
      "D:\\anaconda3\\lib\\site-packages\\sklearn\\utils\\validation.py:72: DataConversionWarning: A column-vector y was passed when a 1d array was expected. Please change the shape of y to (n_samples, ), for example using ravel().\n",
      "  return f(**kwargs)\n",
      "D:\\anaconda3\\lib\\site-packages\\sklearn\\linear_model\\_logistic.py:762: ConvergenceWarning: lbfgs failed to converge (status=1):\n",
      "STOP: TOTAL NO. of ITERATIONS REACHED LIMIT.\n",
      "\n",
      "Increase the number of iterations (max_iter) or scale the data as shown in:\n",
      "    https://scikit-learn.org/stable/modules/preprocessing.html\n",
      "Please also refer to the documentation for alternative solver options:\n",
      "    https://scikit-learn.org/stable/modules/linear_model.html#logistic-regression\n",
      "  n_iter_i = _check_optimize_result(\n"
     ]
    },
    {
     "data": {
      "text/plain": [
       "0.45644599303135885"
      ]
     },
     "execution_count": 47,
     "metadata": {},
     "output_type": "execute_result"
    }
   ],
   "source": [
    "target = result['ChurnFlag']\n",
    "target = target.to_numpy()\n",
    "target = target.reshape(-1, 1)\n",
    "\n",
    "values = result.drop(['ChurnFlag'],axis=1)\n",
    "scaler = StandardScaler()\n",
    "scaled = scaler.fit_transform(values)\n",
    "inputs = pd.DataFrame(scaled)\n",
    "\n",
    "X_train, X_test, y_train, y_test = train_test_split( inputs, target, test_size=0.3, random_state=42)\n",
    "\n",
    "regressor = LogisticRegression()\n",
    "regressor.fit(X_train, y_train)\n",
    "y_pred = regressor.predict(X_test)\n",
    "print(confusion_matrix(y_test, y_pred))\n",
    "f1_score(y_test, y_pred)"
   ]
  },
  {
   "cell_type": "markdown",
   "metadata": {},
   "source": [
    "## Random Forest Classifier Model for Churn Prediction"
   ]
  },
  {
   "cell_type": "code",
   "execution_count": 48,
   "metadata": {},
   "outputs": [
    {
     "name": "stderr",
     "output_type": "stream",
     "text": [
      "<ipython-input-48-514d83c9b85f>:7: DataConversionWarning: A column-vector y was passed when a 1d array was expected. Please change the shape of y to (n_samples,), for example using ravel().\n",
      "  clf.fit(X_train,y_train)\n"
     ]
    },
    {
     "data": {
      "text/plain": [
       "SumUsdAum                                      0.084241\n",
       "YearlyIncome                                   0.071951\n",
       "ActiveProductAndChannelGroupNum                0.061541\n",
       "AvgDemandDepositTrxUsdAmountL6M                0.052468\n",
       "AvgDemandDepositTrxNumL6M                      0.052395\n",
       "AvgAtmTrxNumL6M                                0.047711\n",
       "DemandDepositBalanceDebtRatioLM6               0.047483\n",
       "MaxUsdAumL24M                                  0.045549\n",
       "MaxLoanBalanceL24M                             0.040434\n",
       "TotalProductOwnership                          0.039594\n",
       "AvgUsdAumL3M                                   0.038920\n",
       "SumLoanBalanceUsdLM                            0.037201\n",
       "SumDemandDepositTrxTypeNumLM                   0.036550\n",
       "MaxLoanRemainingMaturity                       0.034690\n",
       "AvgUsdAumL6M                                   0.034056\n",
       "SumDemandDepositTrxNumL6M                      0.027324\n",
       "Channel2OwnershipFlag                          0.026483\n",
       "SumDemandDepositTrxNumL3M                      0.026287\n",
       "AvgBranchTrxNumL6M                             0.021669\n",
       "ClosedCreditCardDurationMonthL12M              0.018889\n",
       "ClosedOverdraftDurationMonthL12M               0.017059\n",
       "Channel1OwnershipFlag                          0.014585\n",
       "ProfitSegment                                  0.013955\n",
       "ClosedProductNumL3M                            0.013593\n",
       "TotalActiveChannelOwnership                    0.013334\n",
       "Channel3OwnershipFlag                          0.011405\n",
       "ClosedPayrollDurationMonthL12M                 0.011241\n",
       "ClosedAutoBillPaymentOrderDurationMonthL12M    0.009420\n",
       "AvgAutoBillPaymentNumLM6                       0.007740\n",
       "ClosedCreditCardFlag                           0.007553\n",
       "DifDayLast2FinancialTrxL12M                    0.007455\n",
       "ValueBasedSegment                              0.003689\n",
       "BonusCampaignPromiseFlag                       0.003477\n",
       "AvgInternetLoginNumL3M                         0.003386\n",
       "SumCcIvrTrxNumL3M                              0.003044\n",
       "AvgInternetTrxNumL6M                           0.002516\n",
       "AvgFxDemandDepositTrxNumL6M                    0.002288\n",
       "AvgFxDemandDepositTrxUsdAmountL6M              0.002176\n",
       "AvgFxDemandDepositTrxUsdAmountL3M              0.001508\n",
       "AvgFxDemandDepositTrxNumL3M                    0.001458\n",
       "SumCcIvrTrxNumL6M                              0.001224\n",
       "AvgInternetTrxNumL3M                           0.001049\n",
       "NewOpenProductAndChannelNumLM                  0.000869\n",
       "IncreaseCcIvrTrxNum                            0.000538\n",
       "ValidationFlag                                 0.000000\n",
       "PeriodOrder                                    0.000000\n",
       "dtype: float64"
      ]
     },
     "execution_count": 48,
     "metadata": {},
     "output_type": "execute_result"
    }
   ],
   "source": [
    "from sklearn.ensemble import RandomForestClassifier\n",
    "\n",
    "#Create a Gaussian Classifier\n",
    "clf=RandomForestClassifier(n_estimators=100)\n",
    "\n",
    "#Train the model using the training sets y_pred=clf.predict(X_test)\n",
    "clf.fit(X_train,y_train)\n",
    "\n",
    "RandomForestClassifier(bootstrap=True, class_weight=None, criterion='gini',\n",
    "            max_depth=None, max_features='auto', max_leaf_nodes=None,\n",
    "            min_impurity_decrease=0.0, min_impurity_split=None,\n",
    "            min_samples_leaf=1, min_samples_split=2,\n",
    "            min_weight_fraction_leaf=0.0, n_estimators=100, n_jobs=1,\n",
    "            oob_score=False, random_state=None, verbose=0,\n",
    "            warm_start=False)\n",
    "\n",
    "feature_imp = pd.Series(clf.feature_importances_,index=values.columns).sort_values(ascending=False)\n",
    "feature_imp\n"
   ]
  },
  {
   "cell_type": "markdown",
   "metadata": {},
   "source": [
    "#### Random Forest Classification before hyperparameter tuning"
   ]
  },
  {
   "cell_type": "code",
   "execution_count": 49,
   "metadata": {},
   "outputs": [
    {
     "name": "stderr",
     "output_type": "stream",
     "text": [
      "<ipython-input-49-e927cbacf549>:7: DataConversionWarning: A column-vector y was passed when a 1d array was expected. Please change the shape of y to (n_samples,), for example using ravel().\n",
      "  clf.fit(X_train,y_train)\n"
     ]
    },
    {
     "name": "stdout",
     "output_type": "stream",
     "text": [
      "Accuracy: 0.8396743939125818\n"
     ]
    }
   ],
   "source": [
    "from sklearn.ensemble import RandomForestClassifier\n",
    "\n",
    "#Create a Gaussian Classifier\n",
    "clf=RandomForestClassifier(n_estimators=100)\n",
    "\n",
    "#Train the model using the training sets y_pred=clf.predict(X_test)\n",
    "clf.fit(X_train,y_train)\n",
    "\n",
    "y_pred=clf.predict(X_test)\n",
    "\n",
    "from sklearn import metrics\n",
    "# Model Accuracy, how often is the classifier correct?\n",
    "print(\"Accuracy:\",metrics.accuracy_score(y_test, y_pred))"
   ]
  },
  {
   "cell_type": "code",
   "execution_count": 50,
   "metadata": {},
   "outputs": [
    {
     "name": "stdout",
     "output_type": "stream",
     "text": [
      "[[3948  294]\n",
      " [ 612  797]]\n"
     ]
    }
   ],
   "source": [
    "print(confusion_matrix(y_test, y_pred))"
   ]
  },
  {
   "cell_type": "code",
   "execution_count": 51,
   "metadata": {},
   "outputs": [
    {
     "data": {
      "text/plain": [
       "0.6376"
      ]
     },
     "execution_count": 51,
     "metadata": {},
     "output_type": "execute_result"
    }
   ],
   "source": [
    "f1_score(y_test, y_pred)"
   ]
  },
  {
   "cell_type": "markdown",
   "metadata": {},
   "source": [
    "#### Random Forest Classification after hyperparameter tuning"
   ]
  },
  {
   "cell_type": "code",
   "execution_count": 52,
   "metadata": {},
   "outputs": [],
   "source": [
    "from sklearn.model_selection import RandomizedSearchCV\n",
    "from sklearn.ensemble import RandomForestRegressor\n",
    "n_estimators = [int(x) for x in np.linspace(start = 200, stop = 2000, num = 10)]\n",
    "max_features = ['auto', 'sqrt']\n",
    "max_depth = [int(x) for x in np.linspace(10, 110, num = 11)]\n",
    "max_depth.append(None)\n",
    "min_samples_split = [2, 5, 10]\n",
    "min_samples_leaf = [1, 2, 4]\n",
    "bootstrap = [True, False]\n",
    "random_grid = {'n_estimators': n_estimators,\n",
    "               'max_features': max_features,\n",
    "               'max_depth': max_depth,\n",
    "               'min_samples_split': min_samples_split,\n",
    "               'min_samples_leaf': min_samples_leaf,\n",
    "               'bootstrap': bootstrap}"
   ]
  },
  {
   "cell_type": "code",
   "execution_count": 53,
   "metadata": {},
   "outputs": [
    {
     "name": "stdout",
     "output_type": "stream",
     "text": [
      "Fitting 3 folds for each of 100 candidates, totalling 300 fits\n"
     ]
    },
    {
     "name": "stderr",
     "output_type": "stream",
     "text": [
      "[Parallel(n_jobs=-1)]: Using backend LokyBackend with 16 concurrent workers.\n",
      "[Parallel(n_jobs=-1)]: Done   9 tasks      | elapsed:   20.8s\n",
      "[Parallel(n_jobs=-1)]: Done 130 tasks      | elapsed:  2.6min\n",
      "[Parallel(n_jobs=-1)]: Done 300 out of 300 | elapsed:  5.6min finished\n",
      "D:\\anaconda3\\lib\\site-packages\\sklearn\\model_selection\\_search.py:765: DataConversionWarning: A column-vector y was passed when a 1d array was expected. Please change the shape of y to (n_samples,), for example using ravel().\n",
      "  self.best_estimator_.fit(X, y, **fit_params)\n"
     ]
    },
    {
     "data": {
      "text/plain": [
       "RandomizedSearchCV(cv=3, estimator=RandomForestClassifier(), n_iter=100,\n",
       "                   n_jobs=-1,\n",
       "                   param_distributions={'bootstrap': [True, False],\n",
       "                                        'max_depth': [10, 20, 30, 40, 50, 60,\n",
       "                                                      70, 80, 90, 100, 110,\n",
       "                                                      None],\n",
       "                                        'max_features': ['auto', 'sqrt'],\n",
       "                                        'min_samples_leaf': [1, 2, 4],\n",
       "                                        'min_samples_split': [2, 5, 10],\n",
       "                                        'n_estimators': [200, 400, 600, 800,\n",
       "                                                         1000, 1200, 1400, 1600,\n",
       "                                                         1800, 2000]},\n",
       "                   random_state=42, verbose=2)"
      ]
     },
     "execution_count": 53,
     "metadata": {},
     "output_type": "execute_result"
    }
   ],
   "source": [
    "rf = RandomForestClassifier()\n",
    "rf_random = RandomizedSearchCV(estimator = rf, param_distributions = random_grid, n_iter = 100, cv = 3, verbose=2, random_state=42, n_jobs = -1)# Fit the random search model\n",
    "rf_random.fit(X_train,y_train)"
   ]
  },
  {
   "cell_type": "code",
   "execution_count": 55,
   "metadata": {},
   "outputs": [
    {
     "name": "stdout",
     "output_type": "stream",
     "text": [
      "[[3943  299]\n",
      " [ 581  828]]\n",
      "Accuracy: 0.8442753494956645\n"
     ]
    }
   ],
   "source": [
    "best_random = rf_random.best_estimator_\n",
    "y_pred = best_random.predict(X_test)\n",
    "print(confusion_matrix(y_test, y_pred))\n",
    "print(\"Accuracy:\",metrics.accuracy_score(y_test, y_pred))\n",
    "f1score = f1_score(y_test, y_pred)"
   ]
  },
  {
   "cell_type": "code",
   "execution_count": 56,
   "metadata": {},
   "outputs": [
    {
     "data": {
      "text/plain": [
       "0.6529968454258674"
      ]
     },
     "execution_count": 56,
     "metadata": {},
     "output_type": "execute_result"
    }
   ],
   "source": [
    "f1score"
   ]
  },
  {
   "cell_type": "markdown",
   "metadata": {},
   "source": [
    "Best optimal hyper parameters for RandomForestClassifier "
   ]
  },
  {
   "cell_type": "code",
   "execution_count": 57,
   "metadata": {},
   "outputs": [
    {
     "data": {
      "text/plain": [
       "RandomForestClassifier(bootstrap=False, max_depth=110, max_features='sqrt',\n",
       "                       min_samples_leaf=2, n_estimators=600)"
      ]
     },
     "execution_count": 57,
     "metadata": {},
     "output_type": "execute_result"
    }
   ],
   "source": [
    "best_random"
   ]
  },
  {
   "cell_type": "code",
   "execution_count": 58,
   "metadata": {},
   "outputs": [
    {
     "data": {
      "text/plain": [
       "(11000, 84)"
      ]
     },
     "execution_count": 58,
     "metadata": {},
     "output_type": "execute_result"
    }
   ],
   "source": [
    "validation = df12.loc[df12['ValidationFlag'] == 1]\n",
    "validation.shape"
   ]
  },
  {
   "cell_type": "code",
   "execution_count": 59,
   "metadata": {},
   "outputs": [
    {
     "data": {
      "text/plain": [
       "0        0\n",
       "1        0\n",
       "2        0\n",
       "3        0\n",
       "4        0\n",
       "        ..\n",
       "65994    0\n",
       "65995    0\n",
       "65996    0\n",
       "65997    0\n",
       "65998    0\n",
       "Name: ValidationFlag, Length: 50872, dtype: int64"
      ]
     },
     "execution_count": 59,
     "metadata": {},
     "output_type": "execute_result"
    }
   ],
   "source": [
    "X['ValidationFlag']"
   ]
  },
  {
   "cell_type": "code",
   "execution_count": null,
   "metadata": {},
   "outputs": [],
   "source": []
  }
 ],
 "metadata": {
  "kernelspec": {
   "display_name": "Python 3",
   "language": "python",
   "name": "python3"
  },
  "language_info": {
   "codemirror_mode": {
    "name": "ipython",
    "version": 3
   },
   "file_extension": ".py",
   "mimetype": "text/x-python",
   "name": "python",
   "nbconvert_exporter": "python",
   "pygments_lexer": "ipython3",
   "version": "3.8.5"
  }
 },
 "nbformat": 4,
 "nbformat_minor": 5
}
