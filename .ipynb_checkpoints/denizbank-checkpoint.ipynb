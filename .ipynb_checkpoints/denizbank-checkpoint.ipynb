{
 "cells": [
  {
   "cell_type": "code",
   "execution_count": 22,
   "metadata": {},
   "outputs": [
    {
     "data": {
      "text/plain": [
       "ChurnFlag                           1.000000\n",
       "ClosedCreditCardFlag                0.044777\n",
       "ClosedPayrollDurationMonthL12M      0.033267\n",
       "SumCreditCardRevolveUsdAmountLM     0.006337\n",
       "SumTrDemandDepositTrxUsdAmountLM   -0.001559\n",
       "                                      ...   \n",
       "SumDemandDepositTrxTypeNumLM       -0.165948\n",
       "Channel2OwnershipFlag              -0.177788\n",
       "ActiveProductAndChannelGroupNum    -0.228249\n",
       "PeriodOrder                              NaN\n",
       "ValidationFlag                           NaN\n",
       "Name: ChurnFlag, Length: 64, dtype: float64"
      ]
     },
     "execution_count": 22,
     "metadata": {},
     "output_type": "execute_result"
    }
   ],
   "source": [
    "import pandas as pd\n",
    "\n",
    "#Read Excel file and get insight\n",
    "df12 = pd.read_excel('COOP4230_DS_PROJECT_DATA_12.xlsx', engine='openpyxl')\n",
    "df12.head(5)"
   ]
  },
  {
   "cell_type": "code",
   "execution_count": 24,
   "metadata": {},
   "outputs": [
    {
     "data": {
      "text/plain": [
       "SumClosedAutoBillPaymentOrderNumLM    65999\n",
       "SumNewAutoBillPaymentOrderNumLM       65536\n",
       "SumInboundTrxNumLM                    65278\n",
       "SumFxDemandDepositTrxUsdAmountLM      64210\n",
       "SumInboundNumLM                       62269\n",
       "                                      ...  \n",
       "Product6OwnershipFlag                     0\n",
       "Product7OwnershipFlag                     0\n",
       "Product8OwnershipFlag                     0\n",
       "Product9OwnershipFlag                     0\n",
       "PeriodOrder                               0\n",
       "Length: 84, dtype: int64"
      ]
     },
     "execution_count": 24,
     "metadata": {},
     "output_type": "execute_result"
    }
   ],
   "source": [
    "#Check corralation\n",
    "corr = df12.corr()\n",
    "corr\n",
    "corr[\"ChurnFlag\"].sort_values(ascending=False)\n",
    "\n",
    "#Check NaN values from dataset\n",
    "df12.isna().sum().sort_values(ascending=False)"
   ]
  },
  {
   "cell_type": "markdown",
   "metadata": {},
   "source": [
    "### Validation Set created"
   ]
  },
  {
   "cell_type": "code",
   "execution_count": 25,
   "metadata": {},
   "outputs": [
    {
     "data": {
      "text/plain": [
       "9        1\n",
       "14       1\n",
       "15       1\n",
       "17       1\n",
       "22       1\n",
       "        ..\n",
       "65971    1\n",
       "65975    1\n",
       "65985    1\n",
       "65993    1\n",
       "65999    1\n",
       "Name: ValidationFlag, Length: 11000, dtype: int64"
      ]
     },
     "execution_count": 25,
     "metadata": {},
     "output_type": "execute_result"
    }
   ],
   "source": [
    "dfvalidation = df12.loc[df12['ValidationFlag'] == 1]\n",
    "dfvalidation['ValidationFlag']"
   ]
  },
  {
   "cell_type": "markdown",
   "metadata": {},
   "source": [
    "## Train set created"
   ]
  },
  {
   "cell_type": "code",
   "execution_count": 52,
   "metadata": {},
   "outputs": [
    {
     "data": {
      "text/plain": [
       "SumClosedAutoBillPaymentOrderNumLM    54999\n",
       "SumNewAutoBillPaymentOrderNumLM       54608\n",
       "SumInboundTrxNumLM                    54388\n",
       "SumFxDemandDepositTrxUsdAmountLM      53496\n",
       "SumInboundNumLM                       51881\n",
       "                                      ...  \n",
       "Product6OwnershipFlag                     0\n",
       "Product7OwnershipFlag                     0\n",
       "Product8OwnershipFlag                     0\n",
       "Product9OwnershipFlag                     0\n",
       "PeriodOrder                               0\n",
       "Length: 84, dtype: int64"
      ]
     },
     "execution_count": 52,
     "metadata": {},
     "output_type": "execute_result"
    }
   ],
   "source": [
    "dfmodel = df12.loc[df12['ValidationFlag'] == 0]\n",
    "#null values\n",
    "dfmodel.isna().sum().sort_values(ascending=False)"
   ]
  },
  {
   "cell_type": "code",
   "execution_count": 53,
   "metadata": {},
   "outputs": [
    {
     "data": {
      "text/plain": [
       "SumClosedAutoBillPaymentOrderNumLM    54970\n",
       "SumNewAutoBillPaymentOrderNumLM       54579\n",
       "SumInboundTrxNumLM                    54359\n",
       "SumFxDemandDepositTrxUsdAmountLM      53467\n",
       "SumInboundNumLM                       51852\n",
       "                                      ...  \n",
       "Product6OwnershipFlag                     0\n",
       "Product7OwnershipFlag                     0\n",
       "Product8OwnershipFlag                     0\n",
       "Product9OwnershipFlag                     0\n",
       "PeriodOrder                               0\n",
       "Length: 84, dtype: int64"
      ]
     },
     "execution_count": 53,
     "metadata": {},
     "output_type": "execute_result"
    }
   ],
   "source": [
    "nullIncomes = dfmodel.loc[dfmodel['YearlyIncome'].isna()]\n",
    "nullIncomes\n",
    "\n",
    "dfmodel = dfmodel[dfmodel['YearlyIncome'].notna()]\n",
    "dfmodel.isna().sum().sort_values(ascending=False)"
   ]
  },
  {
   "cell_type": "markdown",
   "metadata": {},
   "source": [
    "## Dfmodel Refactored \n",
    "\n",
    "Unnecessary columns with a high number of null values ​​were dropped."
   ]
  },
  {
   "cell_type": "code",
   "execution_count": 58,
   "metadata": {},
   "outputs": [
    {
     "ename": "KeyError",
     "evalue": "\"['SumClosedAutoBillPaymentOrderNumLM' 'SumNewAutoBillPaymentOrderNumLM'\\n 'SumInboundTrxNumLM' 'SumFxDemandDepositTrxUsdAmountLM' 'SumInboundNumLM'\\n 'SumAutoBillPaymentNumLM' 'SumBranchTrxUsdAmountLM' 'SumBranchTrxNumLM'\\n 'SumIncomingEftNumLM' 'SumEftNumLM'\\n 'SumInstallmentLoanInstallmentBalanceLM'\\n 'SumInstallmentLoanOpeningBalanceUsdLM'\\n 'SumInstallmentLoanCurrentBalanceUsdLM' 'MaxOverdraftBalanceUsdLM'\\n 'AvgEftNumL3M' 'AvgCreditCardEftUsdAmountL3M' 'AvgEftNumL6M'\\n 'AvgCreditCardEftUsdAmountL6M' 'CreditCardUsdLimitLM'\\n 'SumCreditCardRevolveUsdAmountLM' 'SumCreditCardTrxNumLM'\\n 'SumCreditCardTrxUsdAmountLM' 'SumAtmTrxUsdAmountLM'\\n 'SumTrDemandDepositTrxUsdAmountLM'] not found in axis\"",
     "output_type": "error",
     "traceback": [
      "\u001b[1;31m---------------------------------------------------------------------------\u001b[0m",
      "\u001b[1;31mKeyError\u001b[0m                                  Traceback (most recent call last)",
      "\u001b[1;32m<ipython-input-58-94809013e9c8>\u001b[0m in \u001b[0;36m<module>\u001b[1;34m\u001b[0m\n\u001b[1;32m----> 1\u001b[1;33m dfmodel = dfmodel.drop([\"SumClosedAutoBillPaymentOrderNumLM\",\n\u001b[0m\u001b[0;32m      2\u001b[0m \u001b[1;34m\"SumNewAutoBillPaymentOrderNumLM\"\u001b[0m\u001b[1;33m,\u001b[0m\u001b[1;33m\u001b[0m\u001b[1;33m\u001b[0m\u001b[0m\n\u001b[0;32m      3\u001b[0m \u001b[1;34m\"SumInboundTrxNumLM\"\u001b[0m              \u001b[1;33m,\u001b[0m\u001b[1;33m\u001b[0m\u001b[1;33m\u001b[0m\u001b[0m\n\u001b[0;32m      4\u001b[0m \u001b[1;34m\"SumFxDemandDepositTrxUsdAmountLM\"\u001b[0m \u001b[1;33m,\u001b[0m\u001b[1;33m\u001b[0m\u001b[1;33m\u001b[0m\u001b[0m\n\u001b[0;32m      5\u001b[0m \u001b[1;34m\"SumInboundNumLM\"\u001b[0m                   \u001b[1;33m,\u001b[0m\u001b[1;33m\u001b[0m\u001b[1;33m\u001b[0m\u001b[0m\n",
      "\u001b[1;32mD:\\anaconda3\\lib\\site-packages\\pandas\\core\\frame.py\u001b[0m in \u001b[0;36mdrop\u001b[1;34m(self, labels, axis, index, columns, level, inplace, errors)\u001b[0m\n\u001b[0;32m   4161\u001b[0m                 \u001b[0mweight\u001b[0m  \u001b[1;36m1.0\u001b[0m     \u001b[1;36m0.8\u001b[0m\u001b[1;33m\u001b[0m\u001b[1;33m\u001b[0m\u001b[0m\n\u001b[0;32m   4162\u001b[0m         \"\"\"\n\u001b[1;32m-> 4163\u001b[1;33m         return super().drop(\n\u001b[0m\u001b[0;32m   4164\u001b[0m             \u001b[0mlabels\u001b[0m\u001b[1;33m=\u001b[0m\u001b[0mlabels\u001b[0m\u001b[1;33m,\u001b[0m\u001b[1;33m\u001b[0m\u001b[1;33m\u001b[0m\u001b[0m\n\u001b[0;32m   4165\u001b[0m             \u001b[0maxis\u001b[0m\u001b[1;33m=\u001b[0m\u001b[0maxis\u001b[0m\u001b[1;33m,\u001b[0m\u001b[1;33m\u001b[0m\u001b[1;33m\u001b[0m\u001b[0m\n",
      "\u001b[1;32mD:\\anaconda3\\lib\\site-packages\\pandas\\core\\generic.py\u001b[0m in \u001b[0;36mdrop\u001b[1;34m(self, labels, axis, index, columns, level, inplace, errors)\u001b[0m\n\u001b[0;32m   3885\u001b[0m         \u001b[1;32mfor\u001b[0m \u001b[0maxis\u001b[0m\u001b[1;33m,\u001b[0m \u001b[0mlabels\u001b[0m \u001b[1;32min\u001b[0m \u001b[0maxes\u001b[0m\u001b[1;33m.\u001b[0m\u001b[0mitems\u001b[0m\u001b[1;33m(\u001b[0m\u001b[1;33m)\u001b[0m\u001b[1;33m:\u001b[0m\u001b[1;33m\u001b[0m\u001b[1;33m\u001b[0m\u001b[0m\n\u001b[0;32m   3886\u001b[0m             \u001b[1;32mif\u001b[0m \u001b[0mlabels\u001b[0m \u001b[1;32mis\u001b[0m \u001b[1;32mnot\u001b[0m \u001b[1;32mNone\u001b[0m\u001b[1;33m:\u001b[0m\u001b[1;33m\u001b[0m\u001b[1;33m\u001b[0m\u001b[0m\n\u001b[1;32m-> 3887\u001b[1;33m                 \u001b[0mobj\u001b[0m \u001b[1;33m=\u001b[0m \u001b[0mobj\u001b[0m\u001b[1;33m.\u001b[0m\u001b[0m_drop_axis\u001b[0m\u001b[1;33m(\u001b[0m\u001b[0mlabels\u001b[0m\u001b[1;33m,\u001b[0m \u001b[0maxis\u001b[0m\u001b[1;33m,\u001b[0m \u001b[0mlevel\u001b[0m\u001b[1;33m=\u001b[0m\u001b[0mlevel\u001b[0m\u001b[1;33m,\u001b[0m \u001b[0merrors\u001b[0m\u001b[1;33m=\u001b[0m\u001b[0merrors\u001b[0m\u001b[1;33m)\u001b[0m\u001b[1;33m\u001b[0m\u001b[1;33m\u001b[0m\u001b[0m\n\u001b[0m\u001b[0;32m   3888\u001b[0m \u001b[1;33m\u001b[0m\u001b[0m\n\u001b[0;32m   3889\u001b[0m         \u001b[1;32mif\u001b[0m \u001b[0minplace\u001b[0m\u001b[1;33m:\u001b[0m\u001b[1;33m\u001b[0m\u001b[1;33m\u001b[0m\u001b[0m\n",
      "\u001b[1;32mD:\\anaconda3\\lib\\site-packages\\pandas\\core\\generic.py\u001b[0m in \u001b[0;36m_drop_axis\u001b[1;34m(self, labels, axis, level, errors)\u001b[0m\n\u001b[0;32m   3919\u001b[0m                 \u001b[0mnew_axis\u001b[0m \u001b[1;33m=\u001b[0m \u001b[0maxis\u001b[0m\u001b[1;33m.\u001b[0m\u001b[0mdrop\u001b[0m\u001b[1;33m(\u001b[0m\u001b[0mlabels\u001b[0m\u001b[1;33m,\u001b[0m \u001b[0mlevel\u001b[0m\u001b[1;33m=\u001b[0m\u001b[0mlevel\u001b[0m\u001b[1;33m,\u001b[0m \u001b[0merrors\u001b[0m\u001b[1;33m=\u001b[0m\u001b[0merrors\u001b[0m\u001b[1;33m)\u001b[0m\u001b[1;33m\u001b[0m\u001b[1;33m\u001b[0m\u001b[0m\n\u001b[0;32m   3920\u001b[0m             \u001b[1;32melse\u001b[0m\u001b[1;33m:\u001b[0m\u001b[1;33m\u001b[0m\u001b[1;33m\u001b[0m\u001b[0m\n\u001b[1;32m-> 3921\u001b[1;33m                 \u001b[0mnew_axis\u001b[0m \u001b[1;33m=\u001b[0m \u001b[0maxis\u001b[0m\u001b[1;33m.\u001b[0m\u001b[0mdrop\u001b[0m\u001b[1;33m(\u001b[0m\u001b[0mlabels\u001b[0m\u001b[1;33m,\u001b[0m \u001b[0merrors\u001b[0m\u001b[1;33m=\u001b[0m\u001b[0merrors\u001b[0m\u001b[1;33m)\u001b[0m\u001b[1;33m\u001b[0m\u001b[1;33m\u001b[0m\u001b[0m\n\u001b[0m\u001b[0;32m   3922\u001b[0m             \u001b[0mresult\u001b[0m \u001b[1;33m=\u001b[0m \u001b[0mself\u001b[0m\u001b[1;33m.\u001b[0m\u001b[0mreindex\u001b[0m\u001b[1;33m(\u001b[0m\u001b[1;33m**\u001b[0m\u001b[1;33m{\u001b[0m\u001b[0maxis_name\u001b[0m\u001b[1;33m:\u001b[0m \u001b[0mnew_axis\u001b[0m\u001b[1;33m}\u001b[0m\u001b[1;33m)\u001b[0m\u001b[1;33m\u001b[0m\u001b[1;33m\u001b[0m\u001b[0m\n\u001b[0;32m   3923\u001b[0m \u001b[1;33m\u001b[0m\u001b[0m\n",
      "\u001b[1;32mD:\\anaconda3\\lib\\site-packages\\pandas\\core\\indexes\\base.py\u001b[0m in \u001b[0;36mdrop\u001b[1;34m(self, labels, errors)\u001b[0m\n\u001b[0;32m   5280\u001b[0m         \u001b[1;32mif\u001b[0m \u001b[0mmask\u001b[0m\u001b[1;33m.\u001b[0m\u001b[0many\u001b[0m\u001b[1;33m(\u001b[0m\u001b[1;33m)\u001b[0m\u001b[1;33m:\u001b[0m\u001b[1;33m\u001b[0m\u001b[1;33m\u001b[0m\u001b[0m\n\u001b[0;32m   5281\u001b[0m             \u001b[1;32mif\u001b[0m \u001b[0merrors\u001b[0m \u001b[1;33m!=\u001b[0m \u001b[1;34m\"ignore\"\u001b[0m\u001b[1;33m:\u001b[0m\u001b[1;33m\u001b[0m\u001b[1;33m\u001b[0m\u001b[0m\n\u001b[1;32m-> 5282\u001b[1;33m                 \u001b[1;32mraise\u001b[0m \u001b[0mKeyError\u001b[0m\u001b[1;33m(\u001b[0m\u001b[1;34mf\"{labels[mask]} not found in axis\"\u001b[0m\u001b[1;33m)\u001b[0m\u001b[1;33m\u001b[0m\u001b[1;33m\u001b[0m\u001b[0m\n\u001b[0m\u001b[0;32m   5283\u001b[0m             \u001b[0mindexer\u001b[0m \u001b[1;33m=\u001b[0m \u001b[0mindexer\u001b[0m\u001b[1;33m[\u001b[0m\u001b[1;33m~\u001b[0m\u001b[0mmask\u001b[0m\u001b[1;33m]\u001b[0m\u001b[1;33m\u001b[0m\u001b[1;33m\u001b[0m\u001b[0m\n\u001b[0;32m   5284\u001b[0m         \u001b[1;32mreturn\u001b[0m \u001b[0mself\u001b[0m\u001b[1;33m.\u001b[0m\u001b[0mdelete\u001b[0m\u001b[1;33m(\u001b[0m\u001b[0mindexer\u001b[0m\u001b[1;33m)\u001b[0m\u001b[1;33m\u001b[0m\u001b[1;33m\u001b[0m\u001b[0m\n",
      "\u001b[1;31mKeyError\u001b[0m: \"['SumClosedAutoBillPaymentOrderNumLM' 'SumNewAutoBillPaymentOrderNumLM'\\n 'SumInboundTrxNumLM' 'SumFxDemandDepositTrxUsdAmountLM' 'SumInboundNumLM'\\n 'SumAutoBillPaymentNumLM' 'SumBranchTrxUsdAmountLM' 'SumBranchTrxNumLM'\\n 'SumIncomingEftNumLM' 'SumEftNumLM'\\n 'SumInstallmentLoanInstallmentBalanceLM'\\n 'SumInstallmentLoanOpeningBalanceUsdLM'\\n 'SumInstallmentLoanCurrentBalanceUsdLM' 'MaxOverdraftBalanceUsdLM'\\n 'AvgEftNumL3M' 'AvgCreditCardEftUsdAmountL3M' 'AvgEftNumL6M'\\n 'AvgCreditCardEftUsdAmountL6M' 'CreditCardUsdLimitLM'\\n 'SumCreditCardRevolveUsdAmountLM' 'SumCreditCardTrxNumLM'\\n 'SumCreditCardTrxUsdAmountLM' 'SumAtmTrxUsdAmountLM'\\n 'SumTrDemandDepositTrxUsdAmountLM'] not found in axis\""
     ]
    }
   ],
   "source": [
    "dfmodel = dfmodel.drop([\"SumClosedAutoBillPaymentOrderNumLM\",\n",
    "\"SumNewAutoBillPaymentOrderNumLM\",\n",
    "\"SumInboundTrxNumLM\"              ,               \n",
    "\"SumFxDemandDepositTrxUsdAmountLM\" ,              \n",
    "\"SumInboundNumLM\"                   ,             \n",
    "\"SumAutoBillPaymentNumLM\",\n",
    "\"SumBranchTrxUsdAmountLM\" ,                       \n",
    "\"SumBranchTrxNumLM\"        ,                      \n",
    "\"SumIncomingEftNumLM\"       ,                     \n",
    "\"SumEftNumLM\"                ,                    \n",
    "\"SumInstallmentLoanInstallmentBalanceLM\"         ,\n",
    "\"SumInstallmentLoanOpeningBalanceUsdLM\"          ,\n",
    "\"SumInstallmentLoanCurrentBalanceUsdLM\",\n",
    "\"MaxOverdraftBalanceUsdLM\"              ,         \n",
    "\"AvgEftNumL3M\"                           ,        \n",
    "\"AvgCreditCardEftUsdAmountL3M\"            ,       \n",
    "\"AvgEftNumL6M\"                             ,      \n",
    "\"AvgCreditCardEftUsdAmountL6M\"              ,     \n",
    "\"CreditCardUsdLimitLM\"                       ,    \n",
    "\"SumCreditCardRevolveUsdAmountLM\"             ,   \n",
    "\"SumCreditCardTrxNumLM\"                        ,  \n",
    "\"SumCreditCardTrxUsdAmountLM\"                   , \n",
    "\"SumAtmTrxUsdAmountLM\"                           ,\n",
    "\"SumTrDemandDepositTrxUsdAmountLM\"     ], axis=1)\n"
   ]
  },
  {
   "cell_type": "code",
   "execution_count": 67,
   "metadata": {},
   "outputs": [
    {
     "data": {
      "text/plain": [
       "SumDemandDepositTrxNumL6M    3479\n",
       "SumDemandDepositTrxNumL3M    2935\n",
       "ChurnFlag                       0\n",
       "AvgInternetLoginNumL3M          0\n",
       "ClosedProductNumL3M             0\n",
       "dtype: int64"
      ]
     },
     "execution_count": 67,
     "metadata": {},
     "output_type": "execute_result"
    }
   ],
   "source": [
    "dfmodel.isna().sum().sort_values(ascending=False).head(5)"
   ]
  },
  {
   "cell_type": "code",
   "execution_count": 68,
   "metadata": {},
   "outputs": [
    {
     "data": {
      "text/plain": [
       "ChurnFlag                          1.000000\n",
       "ClosedCreditCardFlag               0.044566\n",
       "ClosedPayrollDurationMonthL12M     0.033541\n",
       "AvgDemandDepositTrxUsdAmountL6M   -0.001726\n",
       "MaxUsdAumL24M                     -0.007029\n",
       "Name: ChurnFlag, dtype: float64"
      ]
     },
     "execution_count": 68,
     "metadata": {},
     "output_type": "execute_result"
    }
   ],
   "source": [
    "corr = dfmodel.corr()\n",
    "corr\n",
    "corr[\"ChurnFlag\"].sort_values(ascending=False).head(5)"
   ]
  },
  {
   "cell_type": "markdown",
   "metadata": {},
   "source": [
    "\n",
    "## NaN counts ##\n",
    "27\n",
    "SumUsdAum                                        \n",
    "27\n",
    "SumLoanBalanceUsdLM                              \n",
    "18\n",
    "MaxLoanBalanceL24M                               \n",
    "18\n",
    "MaxUsdAumL24M                                    \n",
    "\n",
    "\n",
    "These rows dropped"
   ]
  },
  {
   "cell_type": "code",
   "execution_count": 69,
   "metadata": {},
   "outputs": [
    {
     "name": "stdout",
     "output_type": "stream",
     "text": [
      "Current shape of dataframe (54944, 60)\n",
      "Shape of dataframe after drop operation (54944, 60)\n"
     ]
    }
   ],
   "source": [
    "nullIncomes = dfmodel.loc[dfmodel['SumUsdAum'].isna()] #Son 24 aydaki tüm varlıkların usd toplamı vadeli vadesiz\n",
    "nullIncomes\n",
    "\n",
    "#Current shape of dataframe\n",
    "print('Current shape of dataframe' , dfmodel.shape)\n",
    "\n",
    "#Shape of dataframe after drop operation\n",
    "dfmodel = dfmodel.drop(index= nullIncomes.index, axis= 0)\n",
    "print('Shape of dataframe after drop operation' , dfmodel.shape)"
   ]
  },
  {
   "cell_type": "code",
   "execution_count": 66,
   "metadata": {},
   "outputs": [
    {
     "data": {
      "text/plain": [
       "SumDemandDepositTrxNumL6M    3479\n",
       "SumDemandDepositTrxNumL3M    2935\n",
       "ChurnFlag                       0\n",
       "AvgInternetLoginNumL3M          0\n",
       "ClosedProductNumL3M             0\n",
       "dtype: int64"
      ]
     },
     "execution_count": 66,
     "metadata": {},
     "output_type": "execute_result"
    }
   ],
   "source": [
    "dfmodel.isna().sum().sort_values(ascending=False).head(5)"
   ]
  },
  {
   "cell_type": "code",
   "execution_count": 70,
   "metadata": {},
   "outputs": [
    {
     "data": {
      "text/plain": [
       "SumDemandDepositTrxNumL3M          1.000000\n",
       "SumDemandDepositTrxNumL6M          0.929056\n",
       "SumDemandDepositTrxTypeNumLM       0.856896\n",
       "ActiveProductAndChannelGroupNum    0.630017\n",
       "Product13OwnershipFlag             0.564386\n",
       "Name: SumDemandDepositTrxNumL3M, dtype: float64"
      ]
     },
     "execution_count": 70,
     "metadata": {},
     "output_type": "execute_result"
    }
   ],
   "source": [
    "corr[\"SumDemandDepositTrxNumL3M\"].sort_values(ascending=False).head(5)"
   ]
  },
  {
   "cell_type": "code",
   "execution_count": 71,
   "metadata": {},
   "outputs": [],
   "source": [
    "dfSumDemandDepositTrxNumL3M = dfmodel.loc[dfmodel['SumDemandDepositTrxNumL3M'] == 0]\n",
    "nullIncomes = dfmodel.loc[dfmodel['SumDemandDepositTrxNumL3M'].isna()]"
   ]
  },
  {
   "cell_type": "code",
   "execution_count": 73,
   "metadata": {},
   "outputs": [
    {
     "name": "stdout",
     "output_type": "stream",
     "text": [
      "Shape of current dfmodel (54944, 60)\n",
      "Shape of testdataframe (50872, 60)\n"
     ]
    }
   ],
   "source": [
    "nullIncomes2 = dfmodel.loc[dfmodel['SumDemandDepositTrxNumL6M'].isna()] #validation dataset\n",
    "\n",
    "print('Shape of current dfmodel' , dfmodel.shape)\n",
    "testDataframe = dfmodel.drop(index= nullIncomes2.index, axis= 0)\n",
    "nullIncomes3 = testDataframe.loc[dfmodel['SumDemandDepositTrxNumL3M'].isna()]\n",
    "testDataframe = testDataframe.drop(index= nullIncomes3.index, axis= 0)\n",
    "print('Shape of testdataframe' , testDataframe.shape)"
   ]
  },
  {
   "cell_type": "code",
   "execution_count": 74,
   "metadata": {},
   "outputs": [
    {
     "data": {
      "text/plain": [
       "ChurnFlag                        0\n",
       "ValidationFlag                   0\n",
       "Product1OwnershipFlag            0\n",
       "ClosedProductNumL3M              0\n",
       "NewOpenProductAndChannelNumLM    0\n",
       "dtype: int64"
      ]
     },
     "execution_count": 74,
     "metadata": {},
     "output_type": "execute_result"
    }
   ],
   "source": [
    "testDataframe.isna().sum().sort_values(ascending=False).head(5)"
   ]
  },
  {
   "cell_type": "markdown",
   "metadata": {},
   "source": [
    "## Regression for imputation SumDemandDepositTrxNumL6M'"
   ]
  },
  {
   "cell_type": "code",
   "execution_count": 75,
   "metadata": {
    "scrolled": true
   },
   "outputs": [
    {
     "name": "stdout",
     "output_type": "stream",
     "text": [
      "real target\n",
      "[[0.]\n",
      " [2.]\n",
      " [8.]\n",
      " ...\n",
      " [4.]\n",
      " [4.]\n",
      " [2.]]\n",
      "              0\n",
      "0      0.000000\n",
      "1      0.052632\n",
      "2      0.210526\n",
      "3      0.157895\n",
      "4      0.157895\n",
      "...         ...\n",
      "50867  0.210526\n",
      "50868  0.000000\n",
      "50869  0.105263\n",
      "50870  0.105263\n",
      "50871  0.052632\n",
      "\n",
      "[50872 rows x 1 columns]\n",
      "Mean Absolute Error: 0.03654931137324324\n",
      "Mean Squared Error: 0.0022705003937485576\n",
      "Root Mean Squared Error: 0.047649768034572396\n",
      "[[10.]\n",
      " [20.]\n",
      " [ 4.]\n",
      " ...\n",
      " [ 4.]\n",
      " [ 4.]\n",
      " [12.]]\n",
      "[[ 9.26705557]\n",
      " [20.00865201]\n",
      " [ 5.09808145]\n",
      " ...\n",
      " [ 5.15611075]\n",
      " [ 5.15611075]\n",
      " [ 9.32508487]]\n",
      "Mean Absolute Error: 1.3888738321832432\n",
      "Mean Squared Error: 3.2786025685729183\n",
      "Root Mean Squared Error: 1.8106911853137515\n"
     ]
    }
   ],
   "source": [
    "from sklearn.linear_model import LinearRegression\n",
    "from sklearn.preprocessing import MinMaxScaler, StandardScaler\n",
    "from sklearn.model_selection import train_test_split\n",
    "from sklearn import metrics\n",
    "import numpy as np\n",
    "\n",
    "values = testDataframe[['SumDemandDepositTrxNumL3M','SumDemandDepositTrxTypeNumLM' ]]\n",
    "scaler = StandardScaler()\n",
    "scaled = scaler.fit_transform(values)\n",
    "inputs = pd.DataFrame(scaled)\n",
    "\n",
    "target = testDataframe['SumDemandDepositTrxNumL6M']\n",
    "target = target.to_numpy()\n",
    "target = target.reshape(-1, 1)\n",
    "print('real target')\n",
    "print(target)\n",
    "minxmaxScaler = MinMaxScaler()\n",
    "newtarget = minxmaxScaler.fit_transform(target)\n",
    "target = pd.DataFrame(newtarget)\n",
    "print(target)\n",
    "\n",
    "\n",
    "X_train, X_test, y_train, y_test = train_test_split( inputs, target, test_size=0.2, random_state=42)\n",
    "\n",
    "regressor = LinearRegression()\n",
    "regressor.fit(X_train, y_train)\n",
    "\n",
    "#Test set\n",
    "y_pred = regressor.predict(X_test)\n",
    "print('Mean Absolute Error:', metrics.mean_absolute_error(y_test, y_pred))\n",
    "print('Mean Squared Error:', metrics.mean_squared_error(y_test, y_pred))\n",
    "print('Root Mean Squared Error:', np.sqrt(metrics.mean_squared_error(y_test, y_pred)))\n",
    "\n",
    "#Real test\n",
    "reversed_target2 = minxmaxScaler.inverse_transform(y_test)\n",
    "print(reversed_target2)\n",
    "reversed_target = minxmaxScaler.inverse_transform(y_pred)\n",
    "print(reversed_target)\n",
    "\n",
    "print('Mean Absolute Error:', metrics.mean_absolute_error(reversed_target2, reversed_target))\n",
    "print('Mean Squared Error:', metrics.mean_squared_error(reversed_target2, reversed_target))\n",
    "print('Root Mean Squared Error:', np.sqrt(metrics.mean_squared_error(reversed_target2, reversed_target)))"
   ]
  },
  {
   "cell_type": "code",
   "execution_count": 76,
   "metadata": {},
   "outputs": [
    {
     "data": {
      "text/plain": [
       "ChurnFlag                            1.000000\n",
       "ClosedCreditCardFlag                 0.040596\n",
       "ClosedPayrollDurationMonthL12M       0.036551\n",
       "AvgDemandDepositTrxUsdAmountL6M     -0.001801\n",
       "ClosedOverdraftDurationMonthL12M    -0.005343\n",
       "SumUsdAum                           -0.007413\n",
       "MaxUsdAumL24M                       -0.007453\n",
       "AvgFxDemandDepositTrxUsdAmountL6M   -0.007456\n",
       "AvgFxDemandDepositTrxUsdAmountL3M   -0.007468\n",
       "AvgUsdAumL3M                        -0.008408\n",
       "Name: ChurnFlag, dtype: float64"
      ]
     },
     "execution_count": 76,
     "metadata": {},
     "output_type": "execute_result"
    }
   ],
   "source": [
    "corr = testDataframe.corr()\n",
    "corr[\"ChurnFlag\"].sort_values(ascending=False).head(10)"
   ]
  },
  {
   "cell_type": "code",
   "execution_count": 78,
   "metadata": {},
   "outputs": [
    {
     "name": "stdout",
     "output_type": "stream",
     "text": [
      "<class 'pandas.core.frame.DataFrame'>\n",
      "Int64Index: 50872 entries, 0 to 65998\n",
      "Data columns (total 60 columns):\n",
      " #   Column                                       Non-Null Count  Dtype  \n",
      "---  ------                                       --------------  -----  \n",
      " 0   ActiveProductAndChannelGroupNum              50872 non-null  int64  \n",
      " 1   AvgAtmTrxNumL6M                              50872 non-null  object \n",
      " 2   AvgAutoBillPaymentNumLM6                     50872 non-null  object \n",
      " 3   AvgBranchTrxNumL6M                           50872 non-null  object \n",
      " 4   AvgDemandDepositTrxNumL6M                    50872 non-null  object \n",
      " 5   AvgDemandDepositTrxUsdAmountL6M              50872 non-null  int64  \n",
      " 6   AvgFxDemandDepositTrxNumL3M                  50872 non-null  object \n",
      " 7   AvgFxDemandDepositTrxNumL6M                  50872 non-null  object \n",
      " 8   AvgFxDemandDepositTrxUsdAmountL3M            50872 non-null  int64  \n",
      " 9   AvgFxDemandDepositTrxUsdAmountL6M            50872 non-null  int64  \n",
      " 10  AvgInternetLoginNumL3M                       50872 non-null  object \n",
      " 11  AvgInternetTrxNumL3M                         50872 non-null  object \n",
      " 12  AvgInternetTrxNumL6M                         50872 non-null  object \n",
      " 13  AvgUsdAumL3M                                 50872 non-null  int64  \n",
      " 14  AvgUsdAumL6M                                 50872 non-null  int64  \n",
      " 15  BonusCampaignPromiseFlag                     50872 non-null  int64  \n",
      " 16  Channel1OwnershipFlag                        50872 non-null  int64  \n",
      " 17  Channel2OwnershipFlag                        50872 non-null  int64  \n",
      " 18  Channel3OwnershipFlag                        50872 non-null  int64  \n",
      " 19  ChurnFlag                                    50872 non-null  float64\n",
      " 20  ClosedAutoBillPaymentOrderDurationMonthL12M  50872 non-null  int64  \n",
      " 21  ClosedCreditCardDurationMonthL12M            50872 non-null  int64  \n",
      " 22  ClosedCreditCardFlag                         50872 non-null  int64  \n",
      " 23  ClosedOverdraftDurationMonthL12M             50872 non-null  int64  \n",
      " 24  ClosedPayrollDurationMonthL12M               50872 non-null  int64  \n",
      " 25  ClosedProductNumL3M                          50872 non-null  object \n",
      " 26  CustomerId                                   50872 non-null  object \n",
      " 27  DemandDepositBalanceDebtRatioLM6             50872 non-null  object \n",
      " 28  DifDayLast2FinancialTrxL12M                  50872 non-null  object \n",
      " 29  MaxLoanBalanceL24M                           50872 non-null  float64\n",
      " 30  MaxLoanRemainingMaturity                     50872 non-null  int64  \n",
      " 31  MaxUsdAumL24M                                50872 non-null  float64\n",
      " 32  NewOpenProductAndChannelNumLM                50872 non-null  int64  \n",
      " 33  PeriodOrder                                  50872 non-null  int64  \n",
      " 34  Product10OwnershipFlag                       50872 non-null  int64  \n",
      " 35  Product11OwnershipFlag                       50872 non-null  int64  \n",
      " 36  Product12OwnershipFlag                       50872 non-null  int64  \n",
      " 37  Product13OwnershipFlag                       50872 non-null  int64  \n",
      " 38  Product14OwnershipFlag                       50872 non-null  int64  \n",
      " 39  Product15OwnershipFlag                       50872 non-null  int64  \n",
      " 40  Product1OwnershipFlag                        50872 non-null  int64  \n",
      " 41  Product2OwnershipFlag                        50872 non-null  int64  \n",
      " 42  Product3OwnershipFlag                        50872 non-null  int64  \n",
      " 43  Product4OwnershipFlag                        50872 non-null  int64  \n",
      " 44  Product5OwnershipFlag                        50872 non-null  int64  \n",
      " 45  Product6OwnershipFlag                        50872 non-null  int64  \n",
      " 46  Product7OwnershipFlag                        50872 non-null  int64  \n",
      " 47  Product8OwnershipFlag                        50872 non-null  int64  \n",
      " 48  Product9OwnershipFlag                        50872 non-null  int64  \n",
      " 49  ProfitSegment                                50872 non-null  object \n",
      " 50  SumCcIvrTrxNumL3M                            50872 non-null  int64  \n",
      " 51  SumCcIvrTrxNumL6M                            50872 non-null  int64  \n",
      " 52  SumDemandDepositTrxNumL3M                    50872 non-null  float64\n",
      " 53  SumDemandDepositTrxNumL6M                    50872 non-null  float64\n",
      " 54  SumDemandDepositTrxTypeNumLM                 50872 non-null  int64  \n",
      " 55  SumLoanBalanceUsdLM                          50872 non-null  float64\n",
      " 56  SumUsdAum                                    50872 non-null  float64\n",
      " 57  ValidationFlag                               50872 non-null  int64  \n",
      " 58  ValueBasedSegment                            50872 non-null  object \n",
      " 59  YearlyIncome                                 50872 non-null  float64\n",
      "dtypes: float64(8), int64(37), object(15)\n",
      "memory usage: 23.7+ MB\n"
     ]
    }
   ],
   "source": [
    "sorted_data = testDataframe.reindex(sorted(testDataframe.columns), axis=1)\n",
    "sorted_data.info()"
   ]
  },
  {
   "cell_type": "code",
   "execution_count": 79,
   "metadata": {},
   "outputs": [],
   "source": [
    "##Total product ownership calculation\n",
    "poColumns = sorted_data.iloc[:, 34:49]"
   ]
  },
  {
   "cell_type": "code",
   "execution_count": 88,
   "metadata": {},
   "outputs": [
    {
     "data": {
      "text/html": [
       "<div>\n",
       "<style scoped>\n",
       "    .dataframe tbody tr th:only-of-type {\n",
       "        vertical-align: middle;\n",
       "    }\n",
       "\n",
       "    .dataframe tbody tr th {\n",
       "        vertical-align: top;\n",
       "    }\n",
       "\n",
       "    .dataframe thead th {\n",
       "        text-align: right;\n",
       "    }\n",
       "</style>\n",
       "<table border=\"1\" class=\"dataframe\">\n",
       "  <thead>\n",
       "    <tr style=\"text-align: right;\">\n",
       "      <th></th>\n",
       "      <th>Product10OwnershipFlag</th>\n",
       "      <th>Product11OwnershipFlag</th>\n",
       "      <th>Product12OwnershipFlag</th>\n",
       "      <th>Product13OwnershipFlag</th>\n",
       "      <th>Product14OwnershipFlag</th>\n",
       "      <th>Product15OwnershipFlag</th>\n",
       "      <th>Product1OwnershipFlag</th>\n",
       "      <th>Product2OwnershipFlag</th>\n",
       "      <th>Product3OwnershipFlag</th>\n",
       "      <th>Product4OwnershipFlag</th>\n",
       "      <th>Product5OwnershipFlag</th>\n",
       "      <th>Product6OwnershipFlag</th>\n",
       "      <th>Product7OwnershipFlag</th>\n",
       "      <th>Product8OwnershipFlag</th>\n",
       "      <th>Product9OwnershipFlag</th>\n",
       "    </tr>\n",
       "  </thead>\n",
       "  <tbody>\n",
       "    <tr>\n",
       "      <th>0</th>\n",
       "      <td>0</td>\n",
       "      <td>0</td>\n",
       "      <td>0</td>\n",
       "      <td>0</td>\n",
       "      <td>1</td>\n",
       "      <td>0</td>\n",
       "      <td>0</td>\n",
       "      <td>0</td>\n",
       "      <td>0</td>\n",
       "      <td>0</td>\n",
       "      <td>0</td>\n",
       "      <td>0</td>\n",
       "      <td>1</td>\n",
       "      <td>0</td>\n",
       "      <td>0</td>\n",
       "    </tr>\n",
       "    <tr>\n",
       "      <th>1</th>\n",
       "      <td>0</td>\n",
       "      <td>0</td>\n",
       "      <td>0</td>\n",
       "      <td>1</td>\n",
       "      <td>2</td>\n",
       "      <td>1</td>\n",
       "      <td>0</td>\n",
       "      <td>0</td>\n",
       "      <td>0</td>\n",
       "      <td>0</td>\n",
       "      <td>2</td>\n",
       "      <td>0</td>\n",
       "      <td>2</td>\n",
       "      <td>0</td>\n",
       "      <td>0</td>\n",
       "    </tr>\n",
       "    <tr>\n",
       "      <th>2</th>\n",
       "      <td>0</td>\n",
       "      <td>0</td>\n",
       "      <td>0</td>\n",
       "      <td>1</td>\n",
       "      <td>2</td>\n",
       "      <td>0</td>\n",
       "      <td>0</td>\n",
       "      <td>0</td>\n",
       "      <td>0</td>\n",
       "      <td>0</td>\n",
       "      <td>0</td>\n",
       "      <td>0</td>\n",
       "      <td>1</td>\n",
       "      <td>1</td>\n",
       "      <td>0</td>\n",
       "    </tr>\n",
       "    <tr>\n",
       "      <th>3</th>\n",
       "      <td>0</td>\n",
       "      <td>0</td>\n",
       "      <td>0</td>\n",
       "      <td>2</td>\n",
       "      <td>2</td>\n",
       "      <td>2</td>\n",
       "      <td>2</td>\n",
       "      <td>0</td>\n",
       "      <td>0</td>\n",
       "      <td>2</td>\n",
       "      <td>2</td>\n",
       "      <td>0</td>\n",
       "      <td>1</td>\n",
       "      <td>2</td>\n",
       "      <td>0</td>\n",
       "    </tr>\n",
       "    <tr>\n",
       "      <th>4</th>\n",
       "      <td>0</td>\n",
       "      <td>0</td>\n",
       "      <td>0</td>\n",
       "      <td>2</td>\n",
       "      <td>0</td>\n",
       "      <td>2</td>\n",
       "      <td>0</td>\n",
       "      <td>0</td>\n",
       "      <td>0</td>\n",
       "      <td>0</td>\n",
       "      <td>0</td>\n",
       "      <td>0</td>\n",
       "      <td>1</td>\n",
       "      <td>0</td>\n",
       "      <td>0</td>\n",
       "    </tr>\n",
       "    <tr>\n",
       "      <th>5</th>\n",
       "      <td>0</td>\n",
       "      <td>0</td>\n",
       "      <td>0</td>\n",
       "      <td>1</td>\n",
       "      <td>2</td>\n",
       "      <td>1</td>\n",
       "      <td>0</td>\n",
       "      <td>0</td>\n",
       "      <td>0</td>\n",
       "      <td>0</td>\n",
       "      <td>0</td>\n",
       "      <td>0</td>\n",
       "      <td>2</td>\n",
       "      <td>0</td>\n",
       "      <td>0</td>\n",
       "    </tr>\n",
       "    <tr>\n",
       "      <th>6</th>\n",
       "      <td>0</td>\n",
       "      <td>0</td>\n",
       "      <td>0</td>\n",
       "      <td>0</td>\n",
       "      <td>1</td>\n",
       "      <td>2</td>\n",
       "      <td>0</td>\n",
       "      <td>0</td>\n",
       "      <td>0</td>\n",
       "      <td>0</td>\n",
       "      <td>0</td>\n",
       "      <td>0</td>\n",
       "      <td>1</td>\n",
       "      <td>0</td>\n",
       "      <td>0</td>\n",
       "    </tr>\n",
       "    <tr>\n",
       "      <th>7</th>\n",
       "      <td>0</td>\n",
       "      <td>0</td>\n",
       "      <td>0</td>\n",
       "      <td>1</td>\n",
       "      <td>1</td>\n",
       "      <td>1</td>\n",
       "      <td>0</td>\n",
       "      <td>0</td>\n",
       "      <td>0</td>\n",
       "      <td>0</td>\n",
       "      <td>2</td>\n",
       "      <td>0</td>\n",
       "      <td>2</td>\n",
       "      <td>0</td>\n",
       "      <td>0</td>\n",
       "    </tr>\n",
       "    <tr>\n",
       "      <th>8</th>\n",
       "      <td>0</td>\n",
       "      <td>0</td>\n",
       "      <td>0</td>\n",
       "      <td>0</td>\n",
       "      <td>0</td>\n",
       "      <td>0</td>\n",
       "      <td>0</td>\n",
       "      <td>0</td>\n",
       "      <td>0</td>\n",
       "      <td>0</td>\n",
       "      <td>0</td>\n",
       "      <td>0</td>\n",
       "      <td>2</td>\n",
       "      <td>0</td>\n",
       "      <td>0</td>\n",
       "    </tr>\n",
       "    <tr>\n",
       "      <th>10</th>\n",
       "      <td>0</td>\n",
       "      <td>0</td>\n",
       "      <td>0</td>\n",
       "      <td>0</td>\n",
       "      <td>2</td>\n",
       "      <td>2</td>\n",
       "      <td>2</td>\n",
       "      <td>0</td>\n",
       "      <td>0</td>\n",
       "      <td>0</td>\n",
       "      <td>2</td>\n",
       "      <td>0</td>\n",
       "      <td>2</td>\n",
       "      <td>0</td>\n",
       "      <td>0</td>\n",
       "    </tr>\n",
       "  </tbody>\n",
       "</table>\n",
       "</div>"
      ],
      "text/plain": [
       "    Product10OwnershipFlag  Product11OwnershipFlag  Product12OwnershipFlag  \\\n",
       "0                        0                       0                       0   \n",
       "1                        0                       0                       0   \n",
       "2                        0                       0                       0   \n",
       "3                        0                       0                       0   \n",
       "4                        0                       0                       0   \n",
       "5                        0                       0                       0   \n",
       "6                        0                       0                       0   \n",
       "7                        0                       0                       0   \n",
       "8                        0                       0                       0   \n",
       "10                       0                       0                       0   \n",
       "\n",
       "    Product13OwnershipFlag  Product14OwnershipFlag  Product15OwnershipFlag  \\\n",
       "0                        0                       1                       0   \n",
       "1                        1                       2                       1   \n",
       "2                        1                       2                       0   \n",
       "3                        2                       2                       2   \n",
       "4                        2                       0                       2   \n",
       "5                        1                       2                       1   \n",
       "6                        0                       1                       2   \n",
       "7                        1                       1                       1   \n",
       "8                        0                       0                       0   \n",
       "10                       0                       2                       2   \n",
       "\n",
       "    Product1OwnershipFlag  Product2OwnershipFlag  Product3OwnershipFlag  \\\n",
       "0                       0                      0                      0   \n",
       "1                       0                      0                      0   \n",
       "2                       0                      0                      0   \n",
       "3                       2                      0                      0   \n",
       "4                       0                      0                      0   \n",
       "5                       0                      0                      0   \n",
       "6                       0                      0                      0   \n",
       "7                       0                      0                      0   \n",
       "8                       0                      0                      0   \n",
       "10                      2                      0                      0   \n",
       "\n",
       "    Product4OwnershipFlag  Product5OwnershipFlag  Product6OwnershipFlag  \\\n",
       "0                       0                      0                      0   \n",
       "1                       0                      2                      0   \n",
       "2                       0                      0                      0   \n",
       "3                       2                      2                      0   \n",
       "4                       0                      0                      0   \n",
       "5                       0                      0                      0   \n",
       "6                       0                      0                      0   \n",
       "7                       0                      2                      0   \n",
       "8                       0                      0                      0   \n",
       "10                      0                      2                      0   \n",
       "\n",
       "    Product7OwnershipFlag  Product8OwnershipFlag  Product9OwnershipFlag  \n",
       "0                       1                      0                      0  \n",
       "1                       2                      0                      0  \n",
       "2                       1                      1                      0  \n",
       "3                       1                      2                      0  \n",
       "4                       1                      0                      0  \n",
       "5                       2                      0                      0  \n",
       "6                       1                      0                      0  \n",
       "7                       2                      0                      0  \n",
       "8                       2                      0                      0  \n",
       "10                      2                      0                      0  "
      ]
     },
     "execution_count": 88,
     "metadata": {},
     "output_type": "execute_result"
    }
   ],
   "source": [
    "poColumns.head(10)"
   ]
  },
  {
   "cell_type": "code",
   "execution_count": 81,
   "metadata": {},
   "outputs": [],
   "source": [
    "totalProductOwnership = poColumns.T[poColumns.T > 0].count()"
   ]
  },
  {
   "cell_type": "code",
   "execution_count": 82,
   "metadata": {},
   "outputs": [
    {
     "name": "stdout",
     "output_type": "stream",
     "text": [
      "0        2\n",
      "1        5\n",
      "2        4\n",
      "3        8\n",
      "4        3\n",
      "        ..\n",
      "65994    5\n",
      "65995    2\n",
      "65996    4\n",
      "65997    4\n",
      "65998    2\n",
      "Length: 50872, dtype: int64\n"
     ]
    }
   ],
   "source": [
    "print(totalProductOwnership)"
   ]
  },
  {
   "cell_type": "code",
   "execution_count": 83,
   "metadata": {},
   "outputs": [],
   "source": [
    "sorted_data['TotalProductOwnership'] = totalProductOwnership"
   ]
  },
  {
   "cell_type": "code",
   "execution_count": 84,
   "metadata": {},
   "outputs": [
    {
     "name": "stdout",
     "output_type": "stream",
     "text": [
      "<class 'pandas.core.frame.DataFrame'>\n",
      "Int64Index: 50872 entries, 0 to 65998\n",
      "Data columns (total 61 columns):\n",
      " #   Column                                       Non-Null Count  Dtype  \n",
      "---  ------                                       --------------  -----  \n",
      " 0   ActiveProductAndChannelGroupNum              50872 non-null  int64  \n",
      " 1   AvgAtmTrxNumL6M                              50872 non-null  object \n",
      " 2   AvgAutoBillPaymentNumLM6                     50872 non-null  object \n",
      " 3   AvgBranchTrxNumL6M                           50872 non-null  object \n",
      " 4   AvgDemandDepositTrxNumL6M                    50872 non-null  object \n",
      " 5   AvgDemandDepositTrxUsdAmountL6M              50872 non-null  int64  \n",
      " 6   AvgFxDemandDepositTrxNumL3M                  50872 non-null  object \n",
      " 7   AvgFxDemandDepositTrxNumL6M                  50872 non-null  object \n",
      " 8   AvgFxDemandDepositTrxUsdAmountL3M            50872 non-null  int64  \n",
      " 9   AvgFxDemandDepositTrxUsdAmountL6M            50872 non-null  int64  \n",
      " 10  AvgInternetLoginNumL3M                       50872 non-null  object \n",
      " 11  AvgInternetTrxNumL3M                         50872 non-null  object \n",
      " 12  AvgInternetTrxNumL6M                         50872 non-null  object \n",
      " 13  AvgUsdAumL3M                                 50872 non-null  int64  \n",
      " 14  AvgUsdAumL6M                                 50872 non-null  int64  \n",
      " 15  BonusCampaignPromiseFlag                     50872 non-null  int64  \n",
      " 16  Channel1OwnershipFlag                        50872 non-null  int64  \n",
      " 17  Channel2OwnershipFlag                        50872 non-null  int64  \n",
      " 18  Channel3OwnershipFlag                        50872 non-null  int64  \n",
      " 19  ChurnFlag                                    50872 non-null  float64\n",
      " 20  ClosedAutoBillPaymentOrderDurationMonthL12M  50872 non-null  int64  \n",
      " 21  ClosedCreditCardDurationMonthL12M            50872 non-null  int64  \n",
      " 22  ClosedCreditCardFlag                         50872 non-null  int64  \n",
      " 23  ClosedOverdraftDurationMonthL12M             50872 non-null  int64  \n",
      " 24  ClosedPayrollDurationMonthL12M               50872 non-null  int64  \n",
      " 25  ClosedProductNumL3M                          50872 non-null  object \n",
      " 26  CustomerId                                   50872 non-null  object \n",
      " 27  DemandDepositBalanceDebtRatioLM6             50872 non-null  object \n",
      " 28  DifDayLast2FinancialTrxL12M                  50872 non-null  object \n",
      " 29  MaxLoanBalanceL24M                           50872 non-null  float64\n",
      " 30  MaxLoanRemainingMaturity                     50872 non-null  int64  \n",
      " 31  MaxUsdAumL24M                                50872 non-null  float64\n",
      " 32  NewOpenProductAndChannelNumLM                50872 non-null  int64  \n",
      " 33  PeriodOrder                                  50872 non-null  int64  \n",
      " 34  Product10OwnershipFlag                       50872 non-null  int64  \n",
      " 35  Product11OwnershipFlag                       50872 non-null  int64  \n",
      " 36  Product12OwnershipFlag                       50872 non-null  int64  \n",
      " 37  Product13OwnershipFlag                       50872 non-null  int64  \n",
      " 38  Product14OwnershipFlag                       50872 non-null  int64  \n",
      " 39  Product15OwnershipFlag                       50872 non-null  int64  \n",
      " 40  Product1OwnershipFlag                        50872 non-null  int64  \n",
      " 41  Product2OwnershipFlag                        50872 non-null  int64  \n",
      " 42  Product3OwnershipFlag                        50872 non-null  int64  \n",
      " 43  Product4OwnershipFlag                        50872 non-null  int64  \n",
      " 44  Product5OwnershipFlag                        50872 non-null  int64  \n",
      " 45  Product6OwnershipFlag                        50872 non-null  int64  \n",
      " 46  Product7OwnershipFlag                        50872 non-null  int64  \n",
      " 47  Product8OwnershipFlag                        50872 non-null  int64  \n",
      " 48  Product9OwnershipFlag                        50872 non-null  int64  \n",
      " 49  ProfitSegment                                50872 non-null  object \n",
      " 50  SumCcIvrTrxNumL3M                            50872 non-null  int64  \n",
      " 51  SumCcIvrTrxNumL6M                            50872 non-null  int64  \n",
      " 52  SumDemandDepositTrxNumL3M                    50872 non-null  float64\n",
      " 53  SumDemandDepositTrxNumL6M                    50872 non-null  float64\n",
      " 54  SumDemandDepositTrxTypeNumLM                 50872 non-null  int64  \n",
      " 55  SumLoanBalanceUsdLM                          50872 non-null  float64\n",
      " 56  SumUsdAum                                    50872 non-null  float64\n",
      " 57  ValidationFlag                               50872 non-null  int64  \n",
      " 58  ValueBasedSegment                            50872 non-null  object \n",
      " 59  YearlyIncome                                 50872 non-null  float64\n",
      " 60  TotalProductOwnership                        50872 non-null  int64  \n",
      "dtypes: float64(8), int64(38), object(15)\n",
      "memory usage: 24.1+ MB\n",
      "None\n"
     ]
    }
   ],
   "source": [
    "print(sorted_data.info())"
   ]
  },
  {
   "cell_type": "code",
   "execution_count": 85,
   "metadata": {},
   "outputs": [
    {
     "name": "stdout",
     "output_type": "stream",
     "text": [
      "<class 'pandas.core.frame.DataFrame'>\n",
      "Int64Index: 50872 entries, 0 to 65998\n",
      "Data columns (total 46 columns):\n",
      " #   Column                                       Non-Null Count  Dtype  \n",
      "---  ------                                       --------------  -----  \n",
      " 0   ActiveProductAndChannelGroupNum              50872 non-null  int64  \n",
      " 1   AvgAtmTrxNumL6M                              50872 non-null  object \n",
      " 2   AvgAutoBillPaymentNumLM6                     50872 non-null  object \n",
      " 3   AvgBranchTrxNumL6M                           50872 non-null  object \n",
      " 4   AvgDemandDepositTrxNumL6M                    50872 non-null  object \n",
      " 5   AvgDemandDepositTrxUsdAmountL6M              50872 non-null  int64  \n",
      " 6   AvgFxDemandDepositTrxNumL3M                  50872 non-null  object \n",
      " 7   AvgFxDemandDepositTrxNumL6M                  50872 non-null  object \n",
      " 8   AvgFxDemandDepositTrxUsdAmountL3M            50872 non-null  int64  \n",
      " 9   AvgFxDemandDepositTrxUsdAmountL6M            50872 non-null  int64  \n",
      " 10  AvgInternetLoginNumL3M                       50872 non-null  object \n",
      " 11  AvgInternetTrxNumL3M                         50872 non-null  object \n",
      " 12  AvgInternetTrxNumL6M                         50872 non-null  object \n",
      " 13  AvgUsdAumL3M                                 50872 non-null  int64  \n",
      " 14  AvgUsdAumL6M                                 50872 non-null  int64  \n",
      " 15  BonusCampaignPromiseFlag                     50872 non-null  int64  \n",
      " 16  Channel1OwnershipFlag                        50872 non-null  int64  \n",
      " 17  Channel2OwnershipFlag                        50872 non-null  int64  \n",
      " 18  Channel3OwnershipFlag                        50872 non-null  int64  \n",
      " 19  ChurnFlag                                    50872 non-null  float64\n",
      " 20  ClosedAutoBillPaymentOrderDurationMonthL12M  50872 non-null  int64  \n",
      " 21  ClosedCreditCardDurationMonthL12M            50872 non-null  int64  \n",
      " 22  ClosedCreditCardFlag                         50872 non-null  int64  \n",
      " 23  ClosedOverdraftDurationMonthL12M             50872 non-null  int64  \n",
      " 24  ClosedPayrollDurationMonthL12M               50872 non-null  int64  \n",
      " 25  ClosedProductNumL3M                          50872 non-null  object \n",
      " 26  CustomerId                                   50872 non-null  object \n",
      " 27  DemandDepositBalanceDebtRatioLM6             50872 non-null  object \n",
      " 28  DifDayLast2FinancialTrxL12M                  50872 non-null  object \n",
      " 29  MaxLoanBalanceL24M                           50872 non-null  float64\n",
      " 30  MaxLoanRemainingMaturity                     50872 non-null  int64  \n",
      " 31  MaxUsdAumL24M                                50872 non-null  float64\n",
      " 32  NewOpenProductAndChannelNumLM                50872 non-null  int64  \n",
      " 33  PeriodOrder                                  50872 non-null  int64  \n",
      " 34  ProfitSegment                                50872 non-null  object \n",
      " 35  SumCcIvrTrxNumL3M                            50872 non-null  int64  \n",
      " 36  SumCcIvrTrxNumL6M                            50872 non-null  int64  \n",
      " 37  SumDemandDepositTrxNumL3M                    50872 non-null  float64\n",
      " 38  SumDemandDepositTrxNumL6M                    50872 non-null  float64\n",
      " 39  SumDemandDepositTrxTypeNumLM                 50872 non-null  int64  \n",
      " 40  SumLoanBalanceUsdLM                          50872 non-null  float64\n",
      " 41  SumUsdAum                                    50872 non-null  float64\n",
      " 42  ValidationFlag                               50872 non-null  int64  \n",
      " 43  ValueBasedSegment                            50872 non-null  object \n",
      " 44  YearlyIncome                                 50872 non-null  float64\n",
      " 45  TotalProductOwnership                        50872 non-null  int64  \n",
      "dtypes: float64(8), int64(23), object(15)\n",
      "memory usage: 18.2+ MB\n",
      "None\n"
     ]
    }
   ],
   "source": [
    "sorted_data = sorted_data.drop(poColumns, axis=1)\n",
    "print(sorted_data.info())"
   ]
  },
  {
   "cell_type": "code",
   "execution_count": 86,
   "metadata": {},
   "outputs": [
    {
     "data": {
      "text/plain": [
       "0        2\n",
       "1        5\n",
       "2        4\n",
       "3        8\n",
       "4        3\n",
       "        ..\n",
       "65994    5\n",
       "65995    2\n",
       "65996    4\n",
       "65997    4\n",
       "65998    2\n",
       "Name: TotalProductOwnership, Length: 50872, dtype: int64"
      ]
     },
     "execution_count": 86,
     "metadata": {},
     "output_type": "execute_result"
    }
   ],
   "source": [
    "sorted_data['TotalProductOwnership']"
   ]
  },
  {
   "cell_type": "code",
   "execution_count": 87,
   "metadata": {},
   "outputs": [
    {
     "data": {
      "text/plain": [
       "ChurnFlag                                      1.000000\n",
       "ClosedCreditCardFlag                           0.040596\n",
       "ClosedPayrollDurationMonthL12M                 0.036551\n",
       "AvgDemandDepositTrxUsdAmountL6M               -0.001801\n",
       "ClosedOverdraftDurationMonthL12M              -0.005343\n",
       "SumUsdAum                                     -0.007413\n",
       "MaxUsdAumL24M                                 -0.007453\n",
       "AvgFxDemandDepositTrxUsdAmountL6M             -0.007456\n",
       "AvgFxDemandDepositTrxUsdAmountL3M             -0.007468\n",
       "AvgUsdAumL3M                                  -0.008408\n",
       "AvgUsdAumL6M                                  -0.009405\n",
       "YearlyIncome                                  -0.010426\n",
       "ClosedCreditCardDurationMonthL12M             -0.016579\n",
       "BonusCampaignPromiseFlag                      -0.021875\n",
       "SumCcIvrTrxNumL3M                             -0.023013\n",
       "SumCcIvrTrxNumL6M                             -0.024318\n",
       "Channel1OwnershipFlag                         -0.025774\n",
       "NewOpenProductAndChannelNumLM                 -0.030171\n",
       "Channel3OwnershipFlag                         -0.040708\n",
       "MaxLoanBalanceL24M                            -0.046272\n",
       "SumLoanBalanceUsdLM                           -0.048576\n",
       "ClosedAutoBillPaymentOrderDurationMonthL12M   -0.059568\n",
       "SumDemandDepositTrxNumL6M                     -0.106982\n",
       "MaxLoanRemainingMaturity                      -0.112813\n",
       "SumDemandDepositTrxNumL3M                     -0.120320\n",
       "SumDemandDepositTrxTypeNumLM                  -0.168816\n",
       "Channel2OwnershipFlag                         -0.177361\n",
       "TotalProductOwnership                         -0.179430\n",
       "ActiveProductAndChannelGroupNum               -0.225384\n",
       "PeriodOrder                                         NaN\n",
       "ValidationFlag                                      NaN\n",
       "Name: ChurnFlag, dtype: float64"
      ]
     },
     "execution_count": 87,
     "metadata": {},
     "output_type": "execute_result"
    }
   ],
   "source": [
    "corr = sorted_data.corr()\n",
    "corr[\"ChurnFlag\"].sort_values(ascending=False)"
   ]
  },
  {
   "cell_type": "code",
   "execution_count": null,
   "metadata": {},
   "outputs": [],
   "source": []
  }
 ],
 "metadata": {
  "kernelspec": {
   "display_name": "Python 3",
   "language": "python",
   "name": "python3"
  },
  "language_info": {
   "codemirror_mode": {
    "name": "ipython",
    "version": 3
   },
   "file_extension": ".py",
   "mimetype": "text/x-python",
   "name": "python",
   "nbconvert_exporter": "python",
   "pygments_lexer": "ipython3",
   "version": "3.8.5"
  }
 },
 "nbformat": 4,
 "nbformat_minor": 5
}
